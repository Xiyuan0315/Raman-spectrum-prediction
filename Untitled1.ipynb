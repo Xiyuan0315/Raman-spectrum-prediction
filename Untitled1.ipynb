{
 "cells": [
  {
   "cell_type": "code",
   "execution_count": 1,
   "id": "6857ef29",
   "metadata": {},
   "outputs": [],
   "source": [
    "import nets \n",
    "import scipy.io as scio\n",
    "import numpy as np\n",
    "import os\n",
    "from tqdm.auto import tqdm, trange\n",
    "import torch.optim as optim\n",
    "import torch\n",
    "import torch.nn as nn\n",
    "import torch.nn.functional as F\n"
   ]
  },
  {
   "cell_type": "code",
   "execution_count": 20,
   "id": "3d4c445b",
   "metadata": {},
   "outputs": [
    {
     "data": {
      "text/plain": [
       "CNN_CE(\n",
       "  (feat_extractor): Sequential(\n",
       "    (0): Conv1d(1, 16, kernel_size=(11,), stride=(5,), bias=False)\n",
       "    (1): ReLU()\n",
       "    (2): Conv1d(16, 32, kernel_size=(7,), stride=(3,), bias=False)\n",
       "    (3): ReLU()\n",
       "  )\n",
       "  (feat_mapping): Sequential(\n",
       "    (0): Conv1d(32, 32, kernel_size=(3,), stride=(1,), padding=(1,), bias=False)\n",
       "    (1): ReLU()\n",
       "    (2): Conv1d(32, 32, kernel_size=(3,), stride=(1,), padding=(1,), bias=False)\n",
       "    (3): ReLU()\n",
       "  )\n",
       "  (classifier): Sequential(\n",
       "    (0): AdaptiveAvgPool1d(output_size=1)\n",
       "    (1): Flatten()\n",
       "    (2): Linear(in_features=32, out_features=2, bias=True)\n",
       "  )\n",
       ")"
      ]
     },
     "execution_count": 20,
     "metadata": {},
     "output_type": "execute_result"
    }
   ],
   "source": [
    "model =  torch.load('/Users/sheeta/Dropbox/2021_GAN_ambient light removal/CNN_old code/codes/experiments/Task1_CNN/model_latest.pth', map_location='cpu')\n",
    "model.eval()"
   ]
  },
  {
   "cell_type": "code",
   "execution_count": 48,
   "id": "7fe0afb8",
   "metadata": {},
   "outputs": [],
   "source": [
    "os.chdir('/Users/sheeta/Desktop/learn_torch')\n",
    "\n",
    "lightdata = scio.loadmat('Room_light.mat')\n",
    "lightdata = torch.Tensor(lightdata['light'])\n",
    "light = torch.transpose(lightdata,0,1)\n",
    "database = scio.loadmat('NPC_database.mat')\n",
    "npcdata = torch.Tensor(database['NPC_spec'])\n",
    "controldata = torch.Tensor(database['control_spec'])\n",
    "treatdata = torch.Tensor(database['spec_pt'][0,0])\n",
    "npc = torch.transpose(npcdata,0,1)\n",
    "control = torch.transpose(controldata,0,1)\n",
    "output = np.load(\"output.npy\", allow_pickle = True)\n",
    "treat = torch.transpose(treatdata,0,1)\n",
    "\n",
    "noise_npc = torch.where(light[1]>0.13, torch.zeros_like(npc), npc)"
   ]
  },
  {
   "cell_type": "code",
   "execution_count": 26,
   "id": "93b97b6a",
   "metadata": {},
   "outputs": [],
   "source": [
    "def acc(database):\n",
    "    ones = 0\n",
    "    for i in range(len(database)):\n",
    "        pred = model(database[i].view(-1,1,779))\n",
    "        pred = np.argmax(pred.detach().numpy())\n",
    "        if pred == 1:\n",
    "            ones+=1\n",
    "    acc = ones/len(database)\n",
    "    return acc"
   ]
  },
  {
   "cell_type": "code",
   "execution_count": 27,
   "id": "008bc7f6",
   "metadata": {},
   "outputs": [
    {
     "name": "stdout",
     "output_type": "stream",
     "text": [
      "0.5048268029528677\n"
     ]
    }
   ],
   "source": [
    "tru_nega = 1- acc(control)\n",
    "print(tru_nega)"
   ]
  },
  {
   "cell_type": "code",
   "execution_count": 21,
   "id": "1f1201c7",
   "metadata": {},
   "outputs": [
    {
     "data": {
      "text/plain": [
       "(0.9616590306245478, 3988)"
      ]
     },
     "execution_count": 21,
     "metadata": {},
     "output_type": "execute_result"
    }
   ],
   "source": [
    "acc(output)"
   ]
  },
  {
   "cell_type": "code",
   "execution_count": 23,
   "id": "bde827bb",
   "metadata": {},
   "outputs": [
    {
     "data": {
      "text/plain": [
       "(0.9389920424403183, 3894)"
      ]
     },
     "execution_count": 23,
     "metadata": {},
     "output_type": "execute_result"
    }
   ],
   "source": [
    "acc(npc)"
   ]
  },
  {
   "cell_type": "code",
   "execution_count": 49,
   "id": "b9cf79d5",
   "metadata": {},
   "outputs": [
    {
     "data": {
      "text/plain": [
       "0.6342155009451795"
      ]
     },
     "execution_count": 49,
     "metadata": {},
     "output_type": "execute_result"
    }
   ],
   "source": [
    "acc(treat)"
   ]
  },
  {
   "cell_type": "code",
   "execution_count": null,
   "id": "45a03079",
   "metadata": {},
   "outputs": [],
   "source": [
    "#question, 为什么true negative这么低"
   ]
  }
 ],
 "metadata": {
  "kernelspec": {
   "display_name": "Python 3",
   "language": "python",
   "name": "python3"
  },
  "language_info": {
   "codemirror_mode": {
    "name": "ipython",
    "version": 3
   },
   "file_extension": ".py",
   "mimetype": "text/x-python",
   "name": "python",
   "nbconvert_exporter": "python",
   "pygments_lexer": "ipython3",
   "version": "3.8.8"
  }
 },
 "nbformat": 4,
 "nbformat_minor": 5
}
