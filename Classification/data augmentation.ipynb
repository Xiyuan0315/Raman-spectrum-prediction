{
 "cells": [
  {
   "cell_type": "code",
   "execution_count": 8,
   "id": "308acca7",
   "metadata": {},
   "outputs": [],
   "source": [
    "import scipy.io as scio\n",
    "import logging\n",
    "from functools import lru_cache\n",
    "import scipy.stats as st\n",
    "import numpy as np\n",
    "import os\n",
    "from tqdm.auto import tqdm, trange\n",
    "import torch\n",
    "import torch.nn as nn\n",
    "import torch.nn.functional as F\n",
    "import torch.optim as optim\n",
    "from torch.utils.data import Dataset,DataLoader,SubsetRandomSampler\n",
    "from sklearn.metrics import r2_score\n",
    "import matplotlib.pyplot as plt\n",
    "\n",
    "import math\n",
    "device = torch.device('cuda' if torch.cuda.is_available() else 'cpu')"
   ]
  },
  {
   "cell_type": "code",
   "execution_count": 9,
   "id": "595f9636",
   "metadata": {},
   "outputs": [],
   "source": [
    "os.chdir('/Users/sheeta/Desktop/learn_torch/Task3')"
   ]
  },
  {
   "cell_type": "code",
   "execution_count": 4,
   "id": "78c29eb2",
   "metadata": {},
   "outputs": [],
   "source": [
    "#create mask for data reconstruction\n",
    "diffdata = scio.loadmat('diff_abs.mat')\n",
    "diff = torch.Tensor(diffdata['diff_abs'])\n",
    "mask = torch.where(diff<0.01, torch.zeros_like(diff), torch.ones_like(diff))\n",
    "mask = mask.squeeze()\n",
    "an_array = np.array(mask)\n",
    "repetitions = 1406\n",
    "\n",
    "repeats_mask = np.tile(an_array, (repetitions, 1))\n",
    "diff = diff.squeeze()"
   ]
  },
  {
   "cell_type": "code",
   "execution_count": 21,
   "id": "2f1f359b",
   "metadata": {},
   "outputs": [],
   "source": [
    "mask_list = []\n",
    "for i in mask:\n",
    "    mask_list.append(int(i))"
   ]
  },
  {
   "cell_type": "code",
   "execution_count": 28,
   "id": "42a54fe0",
   "metadata": {},
   "outputs": [
    {
     "data": {
      "text/plain": [
       "array([0, 0, 0, 1, 1, 1, 1, 1, 1, 1, 1, 1, 1, 1, 1, 1, 1, 1, 1, 1, 1, 1,\n",
       "       1, 1, 1, 1, 1, 1, 1, 1, 1, 1, 1, 1, 1, 1, 1, 1, 1, 1, 1, 1, 1, 0,\n",
       "       0, 0, 0, 0, 0, 0, 0, 0, 0, 0, 0, 0, 0, 0, 0, 0, 0, 1, 1, 1, 1, 1,\n",
       "       1, 1, 1, 1, 1, 1, 1, 1, 1, 1, 1, 1, 1, 1, 1, 1, 1, 1, 1, 1, 1, 1,\n",
       "       1, 1, 1, 1, 1, 1, 1, 1, 1, 1, 1, 1, 1, 0, 1, 0, 0, 0, 0, 0, 0, 0,\n",
       "       0, 1, 0, 0, 0, 1, 0, 0, 0, 0, 0, 0, 0, 1, 0, 0, 0, 0, 0, 0, 0, 0,\n",
       "       0, 0, 0, 0, 0, 0, 0, 0, 0, 0, 0, 0, 1, 0, 1, 0, 0, 0, 0, 0, 0, 1,\n",
       "       1, 1, 1, 1, 1, 1, 0, 0, 0, 0, 0, 0, 0, 0, 0, 0, 0, 0, 0, 0, 0, 0,\n",
       "       0, 0, 0, 0, 0, 0, 0, 0, 0, 1, 1, 1, 1, 1, 1, 1, 1, 1, 1, 1, 1, 1,\n",
       "       1, 1, 1, 1, 1, 1, 1, 1, 1, 1, 1, 1, 1, 1, 1, 1, 1, 1, 0, 0, 0, 1,\n",
       "       1, 1, 0, 0, 0, 0, 0, 0, 0, 0, 0, 0, 0, 0, 0, 1, 0, 0, 0, 0, 0, 0,\n",
       "       0, 0, 0, 0, 0, 0, 0, 0, 0, 0, 0, 0, 0, 0, 0, 0, 0, 0, 0, 0, 0, 0,\n",
       "       0, 1, 1, 1, 1, 1, 1, 1, 1, 1, 0, 0, 0, 0, 1, 1, 1, 1, 1, 1, 1, 1,\n",
       "       1, 1, 1, 1, 1, 1, 1, 1, 1, 1, 1, 1, 1, 1, 1, 1, 1, 1, 1, 1, 1, 1,\n",
       "       1, 1, 1, 1, 1, 1, 1, 1, 1, 1, 1, 1, 1, 0, 0, 0, 0, 0, 0, 0, 0, 0,\n",
       "       0, 0, 0, 0, 0, 0, 0, 0, 0, 0, 0, 0, 0, 0, 0, 0, 0, 0, 0, 0, 0, 0,\n",
       "       0, 1, 1, 1, 1, 1, 1, 1, 1, 1, 1, 1, 1, 1, 1, 1, 1, 1, 1, 1, 1, 1,\n",
       "       1, 1, 1, 1, 1, 1, 1, 1, 1, 1, 1, 1, 1, 1, 1, 1, 1, 1, 1, 1, 1, 1,\n",
       "       1, 1, 1, 1, 1, 1, 1, 1, 1, 1, 1, 1, 1, 1, 1, 1, 1, 1, 1, 1, 1, 1,\n",
       "       1, 1, 1, 1, 1, 0, 0, 0, 0, 1, 0, 0, 1, 1, 1, 1, 1, 1, 1, 0, 0, 0,\n",
       "       0, 0, 0, 0, 0, 0, 0, 0, 0, 1, 1, 1, 1, 1, 1, 0, 1, 0, 1, 1, 1, 0,\n",
       "       0, 0, 1, 0, 0, 0, 0, 0, 0, 0, 0, 0, 0, 0, 1, 1, 1, 1, 1, 1, 1, 1,\n",
       "       1, 0, 0, 0, 0, 0, 1, 0, 1, 1, 1, 1, 1, 1, 1, 1, 0, 0, 0, 0, 0, 0,\n",
       "       1, 1, 1, 1, 1, 1, 1, 1, 1, 1, 1, 1, 1, 1, 1, 1, 1, 0, 0, 1, 1, 1,\n",
       "       1, 1, 1, 1, 1, 1, 1, 1, 1, 1, 1, 1, 1, 1, 1, 1, 1, 1, 1, 1, 1, 1,\n",
       "       1, 1, 1, 1, 1, 1, 1, 1, 1, 1, 1, 1, 1, 1, 1, 1, 1, 1, 1, 1, 1, 1,\n",
       "       1, 1, 1, 1, 1, 1, 1, 1, 1, 1, 1, 1, 1, 1, 1, 1, 1, 1, 1, 1, 1, 1,\n",
       "       1, 1, 1, 1, 1, 1, 1, 1, 1, 1, 1, 1, 1, 1, 1, 1, 1, 1, 1, 1, 1, 1,\n",
       "       1, 1, 1, 1, 1, 1, 1, 1, 1, 1, 1, 1, 1, 1, 1, 1, 1, 1, 1, 1, 1, 1,\n",
       "       1, 1, 1, 1, 1, 1, 1, 1, 1, 1, 1, 1, 1, 1, 1, 1, 1, 1, 1, 1, 1, 1,\n",
       "       1, 1, 1, 1, 1, 1, 1, 1, 1, 1, 1, 1, 1, 1, 1, 1, 1, 1, 1, 1, 1, 1,\n",
       "       1, 1, 1, 1, 1, 1, 1, 1, 1, 1, 1, 1, 1, 1, 1, 1, 1, 1, 1, 1, 1, 1,\n",
       "       1, 1, 1, 1, 1, 1, 1, 1, 1, 1, 1, 1, 1, 1, 1, 1, 1, 1, 0, 1, 1, 0,\n",
       "       1, 1, 0, 0, 1, 0, 1, 1, 1, 1, 1, 1, 1, 1, 1, 1, 1, 1, 0, 1, 1, 0,\n",
       "       1, 1, 1, 0, 1, 1, 0, 0, 0, 1, 1, 1, 0, 0, 1, 1, 1, 1, 1, 1, 1, 1,\n",
       "       0, 1, 1, 1, 1, 1, 0, 1, 1])"
      ]
     },
     "execution_count": 28,
     "metadata": {},
     "output_type": "execute_result"
    }
   ],
   "source": [
    "mask_list"
   ]
  },
  {
   "cell_type": "code",
   "execution_count": 29,
   "id": "f9d64847",
   "metadata": {},
   "outputs": [
    {
     "ename": "AttributeError",
     "evalue": "'numpy.ndarray' object has no attribute 'items'",
     "output_type": "error",
     "traceback": [
      "\u001b[0;31m---------------------------------------------------------------------------\u001b[0m",
      "\u001b[0;31mAttributeError\u001b[0m                            Traceback (most recent call last)",
      "\u001b[0;32m<ipython-input-29-21596c739f10>\u001b[0m in \u001b[0;36m<module>\u001b[0;34m\u001b[0m\n\u001b[0;32m----> 1\u001b[0;31m \u001b[0mscio\u001b[0m\u001b[0;34m.\u001b[0m\u001b[0msavemat\u001b[0m\u001b[0;34m(\u001b[0m\u001b[0;34m'mask.mat'\u001b[0m\u001b[0;34m,\u001b[0m\u001b[0mmask_list\u001b[0m\u001b[0;34m)\u001b[0m\u001b[0;34m\u001b[0m\u001b[0;34m\u001b[0m\u001b[0m\n\u001b[0m",
      "\u001b[0;32m/opt/anaconda3/lib/python3.8/site-packages/scipy/io/matlab/mio.py\u001b[0m in \u001b[0;36msavemat\u001b[0;34m(file_name, mdict, appendmat, format, long_field_names, do_compression, oned_as)\u001b[0m\n\u001b[1;32m    296\u001b[0m         \u001b[0;32melse\u001b[0m\u001b[0;34m:\u001b[0m\u001b[0;34m\u001b[0m\u001b[0;34m\u001b[0m\u001b[0m\n\u001b[1;32m    297\u001b[0m             \u001b[0;32mraise\u001b[0m \u001b[0mValueError\u001b[0m\u001b[0;34m(\u001b[0m\u001b[0;34m\"Format should be '4' or '5'\"\u001b[0m\u001b[0;34m)\u001b[0m\u001b[0;34m\u001b[0m\u001b[0;34m\u001b[0m\u001b[0m\n\u001b[0;32m--> 298\u001b[0;31m         \u001b[0mMW\u001b[0m\u001b[0;34m.\u001b[0m\u001b[0mput_variables\u001b[0m\u001b[0;34m(\u001b[0m\u001b[0mmdict\u001b[0m\u001b[0;34m)\u001b[0m\u001b[0;34m\u001b[0m\u001b[0;34m\u001b[0m\u001b[0m\n\u001b[0m\u001b[1;32m    299\u001b[0m \u001b[0;34m\u001b[0m\u001b[0m\n\u001b[1;32m    300\u001b[0m \u001b[0;34m\u001b[0m\u001b[0m\n",
      "\u001b[0;32m/opt/anaconda3/lib/python3.8/site-packages/scipy/io/matlab/mio5.py\u001b[0m in \u001b[0;36mput_variables\u001b[0;34m(self, mdict, write_header)\u001b[0m\n\u001b[1;32m    876\u001b[0m             \u001b[0mself\u001b[0m\u001b[0;34m.\u001b[0m\u001b[0mwrite_file_header\u001b[0m\u001b[0;34m(\u001b[0m\u001b[0;34m)\u001b[0m\u001b[0;34m\u001b[0m\u001b[0;34m\u001b[0m\u001b[0m\n\u001b[1;32m    877\u001b[0m         \u001b[0mself\u001b[0m\u001b[0;34m.\u001b[0m\u001b[0m_matrix_writer\u001b[0m \u001b[0;34m=\u001b[0m \u001b[0mVarWriter5\u001b[0m\u001b[0;34m(\u001b[0m\u001b[0mself\u001b[0m\u001b[0;34m)\u001b[0m\u001b[0;34m\u001b[0m\u001b[0;34m\u001b[0m\u001b[0m\n\u001b[0;32m--> 878\u001b[0;31m         \u001b[0;32mfor\u001b[0m \u001b[0mname\u001b[0m\u001b[0;34m,\u001b[0m \u001b[0mvar\u001b[0m \u001b[0;32min\u001b[0m \u001b[0mmdict\u001b[0m\u001b[0;34m.\u001b[0m\u001b[0mitems\u001b[0m\u001b[0;34m(\u001b[0m\u001b[0;34m)\u001b[0m\u001b[0;34m:\u001b[0m\u001b[0;34m\u001b[0m\u001b[0;34m\u001b[0m\u001b[0m\n\u001b[0m\u001b[1;32m    879\u001b[0m             \u001b[0;32mif\u001b[0m \u001b[0mname\u001b[0m\u001b[0;34m[\u001b[0m\u001b[0;36m0\u001b[0m\u001b[0;34m]\u001b[0m \u001b[0;34m==\u001b[0m \u001b[0;34m'_'\u001b[0m\u001b[0;34m:\u001b[0m\u001b[0;34m\u001b[0m\u001b[0;34m\u001b[0m\u001b[0m\n\u001b[1;32m    880\u001b[0m                 \u001b[0;32mcontinue\u001b[0m\u001b[0;34m\u001b[0m\u001b[0;34m\u001b[0m\u001b[0m\n",
      "\u001b[0;31mAttributeError\u001b[0m: 'numpy.ndarray' object has no attribute 'items'"
     ]
    }
   ],
   "source": [
    "scio.savemat('mask.mat',mask_list) "
   ]
  },
  {
   "cell_type": "code",
   "execution_count": 23,
   "id": "eb8d055f",
   "metadata": {},
   "outputs": [
    {
     "data": {
      "text/plain": [
       "[<matplotlib.lines.Line2D at 0x7fe64edd7310>]"
      ]
     },
     "execution_count": 23,
     "metadata": {},
     "output_type": "execute_result"
    },
    {
     "data": {
      "image/png": "[encoded data removed]",
      "text/plain": [
       "<Figure size 432x288 with 1 Axes>"
      ]
     },
     "metadata": {
      "needs_background": "light"
     },
     "output_type": "display_data"
    }
   ],
   "source": [
    "plt.plot(mask, c = 'grey')"
   ]
  },
  {
   "cell_type": "code",
   "execution_count": null,
   "id": "a8690031",
   "metadata": {},
   "outputs": [],
   "source": []
  },
  {
   "cell_type": "code",
   "execution_count": 4,
   "id": "9472aaf8",
   "metadata": {},
   "outputs": [
    {
     "data": {
      "text/plain": [
       "torch.Size([779])"
      ]
     },
     "execution_count": 4,
     "metadata": {},
     "output_type": "execute_result"
    }
   ],
   "source": [
    "diff.size()"
   ]
  },
  {
   "cell_type": "code",
   "execution_count": 5,
   "id": "a9b8fb0f",
   "metadata": {},
   "outputs": [
    {
     "name": "stdout",
     "output_type": "stream",
     "text": [
      "236\n"
     ]
    }
   ],
   "source": [
    "zerocount = 0\n",
    "for i in mask:\n",
    "    if i ==0:\n",
    "        zerocount +=1\n",
    "print(zerocount)\n"
   ]
  },
  {
   "cell_type": "code",
   "execution_count": 6,
   "id": "41175815",
   "metadata": {},
   "outputs": [],
   "source": [
    "cancerdata= scio.loadmat('cancer')\n",
    "cancer = torch.Tensor(cancerdata['cancerdata'])\n",
    "# cancer = torch.transpose(cancer,0,1)"
   ]
  },
  {
   "cell_type": "code",
   "execution_count": 7,
   "id": "130192ae",
   "metadata": {},
   "outputs": [
    {
     "data": {
      "text/plain": [
       "torch.Size([1406, 779])"
      ]
     },
     "execution_count": 7,
     "metadata": {},
     "output_type": "execute_result"
    }
   ],
   "source": [
    "cancer.size()"
   ]
  },
  {
   "cell_type": "code",
   "execution_count": 8,
   "id": "c8c2ff82",
   "metadata": {},
   "outputs": [],
   "source": [
    "#damage spec\n",
    "damaged_cancer = torch.where(diff<0.01, torch.zeros_like(cancer), cancer)\n",
    "damaged_cancer = [damaged_cancer, repeats_mask]"
   ]
  },
  {
   "cell_type": "code",
   "execution_count": 11,
   "id": "a01bf19b",
   "metadata": {},
   "outputs": [],
   "source": [
    "training_data = np.load('training_data.npy',allow_pickle=True)\n",
    "X1 = torch.Tensor([i[0] for i in training_data])\n",
    "X2 = torch.Tensor([i[1] for i in training_data])\n",
    "X = torch.stack((X1, X2), dim=1)\n",
    "y = torch.Tensor([i[2] for i in training_data])\n",
    "\n",
    "VAL_PCT = 0.1  # lets reserve 10% of our data for validation\n",
    "val_size = int(len(X)*VAL_PCT)\n",
    "\n",
    "train_X = X[:-val_size]\n",
    "train_y = y[:-val_size]\n",
    "\n",
    "test_X = X[-val_size:]\n",
    "test_y = y[-val_size:]"
   ]
  },
  {
   "cell_type": "code",
   "execution_count": 12,
   "id": "d1df00d3",
   "metadata": {},
   "outputs": [],
   "source": [
    "dropout = 0.2\n",
    "learning_rate = 1e-3\n",
    "BATCH_SIZE = 32\n",
    "# model_params = {'input_dim': input_dim,\n",
    "#                 'hidden_dim' : hidden_dim,\n",
    "#                 'layer_dim' : layer_dim,\n",
    "#                 'output_dim' : output_dim,\n",
    "#                 'dropout_prob' : dropout}\n",
    "# net = get_model('lstm', model_params)\n"
   ]
  },
  {
   "cell_type": "markdown",
   "id": "2655f8f5",
   "metadata": {},
   "source": [
    "## Dataloader"
   ]
  },
  {
   "cell_type": "code",
   "execution_count": 13,
   "id": "a395e2a5",
   "metadata": {},
   "outputs": [
    {
     "name": "stderr",
     "output_type": "stream",
     "text": [
      "/opt/anaconda3/lib/python3.8/site-packages/torch/nn/functional.py:652: UserWarning: Named tensors and all their associated APIs are an experimental feature and subject to change. Please do not use them for anything important until they are released as stable. (Triggered internally at  /Users/distiller/project/conda/conda-bld/pytorch_1623459044803/work/c10/core/TensorImpl.h:1156.)\n",
      "  return torch.max_pool1d(input, kernel_size, stride, padding, dilation, ceil_mode)\n"
     ]
    }
   ],
   "source": [
    "class CNN(nn.Module):\n",
    "    def __init__(self):\n",
    "        super().__init__() \n",
    "        torch.manual_seed(20010315)\n",
    "        self.conv1 = nn.Conv1d(2, 32,5 ,dilation = 3 ,padding = 6)\n",
    "        self.conv2 = nn.Conv1d(32, 64, 5,dilation = 3,padding = 6) \n",
    "        self.conv3 = nn.Conv1d(64, 128, 5,padding = 6)\n",
    "        self.D = nn.Dropout(0.2)\n",
    "      #  self.lstm = nn.LSTM(input_size=len(orig_npc[0]), hidden_size=256, num_layers=3)\n",
    "        x = torch.randn(2*779).view(-1,2,779)\n",
    "        self._to_linear = None\n",
    "        self.convs(x)\n",
    "        self.fc1 = nn.Linear(self._to_linear, 779) #flattening.\n",
    "   \n",
    "    def convs(self, x):\n",
    "        x = F.max_pool1d(F.leaky_relu(self.conv1(x)), (2))\n",
    "        x = F.max_pool1d(F.leaky_relu(self.conv2(x)), (2))\n",
    "        x = F.max_pool1d(F.leaky_relu(self.conv3(x)), (2))\n",
    "\n",
    "        if self._to_linear is None:\n",
    "            self._to_linear = x[0].shape[0]*x[0].shape[1]\n",
    "        return x\n",
    "    \n",
    "\n",
    "    def forward(self, x):\n",
    "        x = self.convs(x)\n",
    "        x = x.view(-1, self._to_linear)  # .view is reshape ... this flattens X before \n",
    "        x = self.D(x)\n",
    "        x = self.fc1(x)\n",
    "        return x\n",
    "net = CNN()"
   ]
  },
  {
   "cell_type": "code",
   "execution_count": 14,
   "id": "aa992cbb",
   "metadata": {},
   "outputs": [],
   "source": [
    "def fwd_pass(X,y,train = False):\n",
    "    if train:\n",
    "        net.zero_grad()\n",
    "    \n",
    "    output = net(X)\n",
    "    loss = loss_function(output,y)\n",
    "    output = output.detach().numpy()\n",
    "    score  = [r2_score(i,j) for i, j in zip(output, y)]\n",
    "    score = np.mean(score)\n",
    "    if train:\n",
    "        loss.backward()\n",
    "        optimizer.step()\n",
    "    return loss, score"
   ]
  },
  {
   "cell_type": "code",
   "execution_count": 17,
   "id": "55c321ff",
   "metadata": {},
   "outputs": [
    {
     "data": {
      "application/vnd.jupyter.widget-view+json": {
       "model_id": "ce718ba54c6848a2825b09a8805a08ce",
       "version_major": 2,
       "version_minor": 0
      },
      "text/plain": [
       "  0%|          | 0/13 [00:00<?, ?it/s]"
      ]
     },
     "metadata": {},
     "output_type": "display_data"
    },
    {
     "data": {
      "application/vnd.jupyter.widget-view+json": {
       "model_id": "15895cc2d0bb4e8ca6fc71b6ec790a47",
       "version_major": 2,
       "version_minor": 0
      },
      "text/plain": [
       "  0%|          | 0/40 [00:00<?, ?it/s]"
      ]
     },
     "metadata": {},
     "output_type": "display_data"
    },
    {
     "name": "stdout",
     "output_type": "stream",
     "text": [
      "Train loss: tensor(0.0021, grad_fn=<MseLossBackward>) score: 0.7792536482320096\n",
      "Test loss: tensor(0.0689) score: -0.06695848120307696\n"
     ]
    },
    {
     "data": {
      "application/vnd.jupyter.widget-view+json": {
       "model_id": "cb0914864982495ca6b55ca52956ac33",
       "version_major": 2,
       "version_minor": 0
      },
      "text/plain": [
       "  0%|          | 0/40 [00:00<?, ?it/s]"
      ]
     },
     "metadata": {},
     "output_type": "display_data"
    },
    {
     "name": "stdout",
     "output_type": "stream",
     "text": [
      "Train loss: tensor(0.0057, grad_fn=<MseLossBackward>) score: -0.523119245987655\n",
      "Test loss: tensor(0.0920) score: -0.715182131578151\n"
     ]
    },
    {
     "data": {
      "application/vnd.jupyter.widget-view+json": {
       "model_id": "d742ad6c770447f0aec7692feb2aa21f",
       "version_major": 2,
       "version_minor": 0
      },
      "text/plain": [
       "  0%|          | 0/40 [00:00<?, ?it/s]"
      ]
     },
     "metadata": {},
     "output_type": "display_data"
    },
    {
     "name": "stdout",
     "output_type": "stream",
     "text": [
      "Train loss: tensor(0.0017, grad_fn=<MseLossBackward>) score: 0.8153641965080153\n",
      "Test loss: tensor(0.0672) score: -0.05704465401815021\n"
     ]
    },
    {
     "data": {
      "application/vnd.jupyter.widget-view+json": {
       "model_id": "43342b9aade5489aa8ae87c2f8868e93",
       "version_major": 2,
       "version_minor": 0
      },
      "text/plain": [
       "  0%|          | 0/40 [00:00<?, ?it/s]"
      ]
     },
     "metadata": {},
     "output_type": "display_data"
    },
    {
     "name": "stdout",
     "output_type": "stream",
     "text": [
      "Train loss: tensor(0.0021, grad_fn=<MseLossBackward>) score: 0.8285719310335886\n",
      "Test loss: tensor(0.0672) score: -0.24400320670721498\n"
     ]
    },
    {
     "data": {
      "application/vnd.jupyter.widget-view+json": {
       "model_id": "30126a1b886e4b5e9f4eddd7b784fb2c",
       "version_major": 2,
       "version_minor": 0
      },
      "text/plain": [
       "  0%|          | 0/40 [00:00<?, ?it/s]"
      ]
     },
     "metadata": {},
     "output_type": "display_data"
    },
    {
     "name": "stdout",
     "output_type": "stream",
     "text": [
      "Train loss: tensor(0.0019, grad_fn=<MseLossBackward>) score: 0.842733051180534\n",
      "Test loss: tensor(0.0644) score: 0.5831788175612594\n"
     ]
    },
    {
     "data": {
      "application/vnd.jupyter.widget-view+json": {
       "model_id": "4d829a9e00da477aa2287e62b8df1dce",
       "version_major": 2,
       "version_minor": 0
      },
      "text/plain": [
       "  0%|          | 0/40 [00:00<?, ?it/s]"
      ]
     },
     "metadata": {},
     "output_type": "display_data"
    },
    {
     "name": "stdout",
     "output_type": "stream",
     "text": [
      "Train loss: tensor(0.0017, grad_fn=<MseLossBackward>) score: 0.8354201750845849\n",
      "Test loss: tensor(0.0755) score: 0.6494671342102302\n"
     ]
    },
    {
     "data": {
      "application/vnd.jupyter.widget-view+json": {
       "model_id": "ea0dc9b855d74c809e29889be538eaba",
       "version_major": 2,
       "version_minor": 0
      },
      "text/plain": [
       "  0%|          | 0/40 [00:00<?, ?it/s]"
      ]
     },
     "metadata": {},
     "output_type": "display_data"
    },
    {
     "name": "stdout",
     "output_type": "stream",
     "text": [
      "Train loss: tensor(0.0014, grad_fn=<MseLossBackward>) score: 0.8420513546885221\n",
      "Test loss: tensor(0.0664) score: 0.17490754659223398\n"
     ]
    },
    {
     "data": {
      "application/vnd.jupyter.widget-view+json": {
       "model_id": "4bb1d463635145eebeca04ccaada4f4a",
       "version_major": 2,
       "version_minor": 0
      },
      "text/plain": [
       "  0%|          | 0/40 [00:00<?, ?it/s]"
      ]
     },
     "metadata": {},
     "output_type": "display_data"
    },
    {
     "name": "stdout",
     "output_type": "stream",
     "text": [
      "Train loss: tensor(0.0014, grad_fn=<MseLossBackward>) score: 0.8417522757613934\n",
      "Test loss: tensor(0.0662) score: -1.0772534794711215\n"
     ]
    },
    {
     "data": {
      "application/vnd.jupyter.widget-view+json": {
       "model_id": "30cd7f10d9e641bda53b7bfc905d0d08",
       "version_major": 2,
       "version_minor": 0
      },
      "text/plain": [
       "  0%|          | 0/40 [00:00<?, ?it/s]"
      ]
     },
     "metadata": {},
     "output_type": "display_data"
    },
    {
     "name": "stdout",
     "output_type": "stream",
     "text": [
      "Train loss: tensor(0.0012, grad_fn=<MseLossBackward>) score: 0.8777480189359862\n",
      "Test loss: tensor(0.0856) score: 0.3302329893319279\n"
     ]
    },
    {
     "data": {
      "application/vnd.jupyter.widget-view+json": {
       "model_id": "14327dea34d8438c8a18e22807562505",
       "version_major": 2,
       "version_minor": 0
      },
      "text/plain": [
       "  0%|          | 0/40 [00:00<?, ?it/s]"
      ]
     },
     "metadata": {},
     "output_type": "display_data"
    },
    {
     "name": "stdout",
     "output_type": "stream",
     "text": [
      "Train loss: tensor(0.0013, grad_fn=<MseLossBackward>) score: 0.8656733807809949\n",
      "Test loss: tensor(0.0591) score: 0.7221612941237966\n"
     ]
    },
    {
     "data": {
      "application/vnd.jupyter.widget-view+json": {
       "model_id": "f737f3150da74157af3a85bbae9216bb",
       "version_major": 2,
       "version_minor": 0
      },
      "text/plain": [
       "  0%|          | 0/40 [00:00<?, ?it/s]"
      ]
     },
     "metadata": {},
     "output_type": "display_data"
    },
    {
     "name": "stdout",
     "output_type": "stream",
     "text": [
      "Train loss: tensor(0.0014, grad_fn=<MseLossBackward>) score: 0.8441455212632354\n",
      "Test loss: tensor(0.0633) score: 0.612276256981991\n"
     ]
    },
    {
     "data": {
      "application/vnd.jupyter.widget-view+json": {
       "model_id": "d2af6e33f72d40138d73dcfcaae042b3",
       "version_major": 2,
       "version_minor": 0
      },
      "text/plain": [
       "  0%|          | 0/40 [00:00<?, ?it/s]"
      ]
     },
     "metadata": {},
     "output_type": "display_data"
    },
    {
     "name": "stdout",
     "output_type": "stream",
     "text": [
      "Train loss: tensor(0.0014, grad_fn=<MseLossBackward>) score: 0.8650938317583131\n",
      "Test loss: tensor(0.0719) score: 0.5938381033995567\n"
     ]
    },
    {
     "data": {
      "application/vnd.jupyter.widget-view+json": {
       "model_id": "43510e7625ba4c52b892a2b94b743d7f",
       "version_major": 2,
       "version_minor": 0
      },
      "text/plain": [
       "  0%|          | 0/40 [00:00<?, ?it/s]"
      ]
     },
     "metadata": {},
     "output_type": "display_data"
    },
    {
     "name": "stdout",
     "output_type": "stream",
     "text": [
      "Train loss: tensor(0.0012, grad_fn=<MseLossBackward>) score: 0.8828683639495117\n",
      "Test loss: tensor(0.0838) score: 0.45596748353481464\n"
     ]
    }
   ],
   "source": [
    "optimizer = optim.Adam(net.parameters(), lr=learning_rate)\n",
    "loss_function = nn.MSELoss()\n",
    "def train(net = net,\n",
    "          epochs=13,\n",
    "          BATCH_SIZE = BATCH_SIZE):\n",
    "    loss_train = []\n",
    "    for e in trange(epochs):\n",
    "        for i in tqdm(range(0, len(train_X), BATCH_SIZE)):\n",
    "            batch_X = train_X[i:i+BATCH_SIZE].view(-1,2,779)\n",
    "            batch_y = train_y[i:i+BATCH_SIZE].view(-1,1,779).squeeze(1)\n",
    "            loss,score = fwd_pass(batch_X, batch_y, train=True)\n",
    "            loss_train.append(loss)\n",
    "        print('Train','loss:', loss, 'score:' ,score )\n",
    "        loss_test, r2score_test = test(size = 100)\n",
    "        print('Test','loss:', loss_test, 'score:' ,r2score_test )\n",
    "        \n",
    "train()"
   ]
  },
  {
   "cell_type": "code",
   "execution_count": 16,
   "id": "f9958695",
   "metadata": {},
   "outputs": [
    {
     "name": "stdout",
     "output_type": "stream",
     "text": [
      "tensor(0.0721) -4.011787880620837\n"
     ]
    }
   ],
   "source": [
    "def test(size):\n",
    "    with torch.no_grad():\n",
    "        randome_start = np.random.randint(len(test_X)-size)\n",
    "        X, y = test_X[randome_start:randome_start+size], test_y[randome_start:randome_start+size]\n",
    "        loss,r2score = fwd_pass(X.view(-1, 2,779),y)\n",
    "    return loss,r2score\n",
    "\n",
    "loss, r2score = test(size = 100)\n",
    "print(loss,r2score)"
   ]
  },
  {
   "cell_type": "code",
   "execution_count": 335,
   "id": "aa6dd997",
   "metadata": {},
   "outputs": [
    {
     "data": {
      "image/png": "[encoded data removed]",
      "text/plain": [
       "<Figure size 432x288 with 1 Axes>"
      ]
     },
     "metadata": {
      "needs_background": "light"
     },
     "output_type": "display_data"
    }
   ],
   "source": [
    "\n",
    "net_out1 = net(train_X[6].view(-1, 2, 779))\n",
    "\n",
    "predict = net_out1[0].cpu().detach()\n",
    "ground_truth = train_y[6]\n",
    "noise = train_X[6][0]\n",
    "            \n",
    "#plt.plot(predict)\n",
    "plt.plot(ground_truth) \n",
    "plt.plot(noise) \n",
    "plt.show()"
   ]
  },
  {
   "cell_type": "code",
   "execution_count": 1,
   "id": "3a32edc7",
   "metadata": {},
   "outputs": [
    {
     "ename": "NameError",
     "evalue": "name 'plt' is not defined",
     "output_type": "error",
     "traceback": [
      "\u001b[0;31m---------------------------------------------------------------------------\u001b[0m",
      "\u001b[0;31mNameError\u001b[0m                                 Traceback (most recent call last)",
      "\u001b[0;32m<ipython-input-1-6977c1d816a1>\u001b[0m in \u001b[0;36m<module>\u001b[0;34m\u001b[0m\n\u001b[0;32m----> 1\u001b[0;31m \u001b[0mplt\u001b[0m\u001b[0;34m.\u001b[0m\u001b[0mplot\u001b[0m\u001b[0;34m(\u001b[0m\u001b[0mpredict\u001b[0m\u001b[0;34m,\u001b[0m\u001b[0;34m'green'\u001b[0m\u001b[0;34m)\u001b[0m\u001b[0;34m\u001b[0m\u001b[0;34m\u001b[0m\u001b[0m\n\u001b[0m\u001b[1;32m      2\u001b[0m \u001b[0mplt\u001b[0m\u001b[0;34m.\u001b[0m\u001b[0mplot\u001b[0m\u001b[0;34m(\u001b[0m\u001b[0mground_truth\u001b[0m\u001b[0;34m,\u001b[0m\u001b[0;34m'blue'\u001b[0m\u001b[0;34m)\u001b[0m\u001b[0;34m\u001b[0m\u001b[0;34m\u001b[0m\u001b[0m\n\u001b[1;32m      3\u001b[0m \u001b[0;31m#plt.plot(noise)\u001b[0m\u001b[0;34m\u001b[0m\u001b[0;34m\u001b[0m\u001b[0;34m\u001b[0m\u001b[0m\n\u001b[1;32m      4\u001b[0m \u001b[0mplt\u001b[0m\u001b[0;34m.\u001b[0m\u001b[0mshow\u001b[0m\u001b[0;34m(\u001b[0m\u001b[0;34m)\u001b[0m\u001b[0;34m\u001b[0m\u001b[0;34m\u001b[0m\u001b[0m\n",
      "\u001b[0;31mNameError\u001b[0m: name 'plt' is not defined"
     ]
    }
   ],
   "source": [
    "plt.plot(predict,'green')\n",
    "plt.plot(ground_truth,'blue') \n",
    "#plt.plot(noise) \n",
    "plt.show()"
   ]
  },
  {
   "cell_type": "code",
   "execution_count": 337,
   "id": "880673a7",
   "metadata": {},
   "outputs": [],
   "source": [
    "outputlist = []\n",
    "for i in range(len(X)):\n",
    "    net_out = net(X[i].view(-1, 2, 779))\n",
    "\n",
    "    predict = net_out[0].cpu().detach()\n",
    "    outputlist.append(np.array(predict))\n",
    "np.save('aut1.npy',outputlist)\n",
    "\n",
    "outputlist = []\n",
    "for i in range(len(X)):\n",
    "    net_out = net(X[i].view(-1, 2, 779))\n",
    "\n",
    "    predict = net_out[0].cpu().detach()\n",
    "    outputlist.append(np.array(predict))\n",
    "np.save('aut2.npy',outputlist)"
   ]
  },
  {
   "cell_type": "code",
   "execution_count": 3,
   "id": "d55295b4",
   "metadata": {},
   "outputs": [],
   "source": [
    "ori = np.load('spec.npy',allow_pickle=True)\n",
    "aut1 = np.load('aut1.npy',allow_pickle=True)\n",
    "aut2 = np.load('aut2.npy',allow_pickle=True)"
   ]
  },
  {
   "cell_type": "code",
   "execution_count": 339,
   "id": "57f97792",
   "metadata": {},
   "outputs": [],
   "source": [
    "cancer = np.concatenate((ori, aut1, aut2),axis = 0)"
   ]
  },
  {
   "cell_type": "code",
   "execution_count": 4,
   "id": "a81ecb99",
   "metadata": {},
   "outputs": [
    {
     "data": {
      "text/plain": [
       "[<matplotlib.lines.Line2D at 0x7fe9970821f0>]"
      ]
     },
     "execution_count": 4,
     "metadata": {},
     "output_type": "execute_result"
    },
    {
     "data": {
      "image/png": "[encoded data removed]",
      "text/plain": [
       "<Figure size 432x288 with 1 Axes>"
      ]
     },
     "metadata": {
      "needs_background": "light"
     },
     "output_type": "display_data"
    }
   ],
   "source": [
    "plt.plot(ori[0]) "
   ]
  },
  {
   "cell_type": "code",
   "execution_count": 6,
   "id": "e84f7700",
   "metadata": {
    "scrolled": true
   },
   "outputs": [
    {
     "data": {
      "text/plain": [
       "[<matplotlib.lines.Line2D at 0x7fe9970ea310>]"
      ]
     },
     "execution_count": 6,
     "metadata": {},
     "output_type": "execute_result"
    },
    {
     "data": {
      "image/png": "[encoded data removed]",
      "text/plain": [
       "<Figure size 432x288 with 1 Axes>"
      ]
     },
     "metadata": {
      "needs_background": "light"
     },
     "output_type": "display_data"
    }
   ],
   "source": [
    "plt.plot(aut1[0]) "
   ]
  },
  {
   "cell_type": "code",
   "execution_count": 7,
   "id": "b630eb2a",
   "metadata": {},
   "outputs": [
    {
     "data": {
      "text/plain": [
       "[<matplotlib.lines.Line2D at 0x7fe9973c09d0>]"
      ]
     },
     "execution_count": 7,
     "metadata": {},
     "output_type": "execute_result"
    },
    {
     "data": {
      "image/png": "[encoded data removed]",
      "text/plain": [
       "<Figure size 432x288 with 1 Axes>"
      ]
     },
     "metadata": {
      "needs_background": "light"
     },
     "output_type": "display_data"
    }
   ],
   "source": [
    "plt.plot(aut2[0]) "
   ]
  },
  {
   "cell_type": "code",
   "execution_count": 8,
   "id": "cd2a3248",
   "metadata": {},
   "outputs": [],
   "source": [
    "spec_down = np.load('spec_down.npy',allow_pickle=True)"
   ]
  },
  {
   "cell_type": "code",
   "execution_count": 19,
   "id": "71b061a9",
   "metadata": {},
   "outputs": [
    {
     "data": {
      "text/plain": [
       "6133"
      ]
     },
     "execution_count": 19,
     "metadata": {},
     "output_type": "execute_result"
    }
   ],
   "source": [
    "len(spec_down)"
   ]
  },
  {
   "cell_type": "code",
   "execution_count": 22,
   "id": "002e2629",
   "metadata": {},
   "outputs": [
    {
     "data": {
      "text/plain": [
       "2"
      ]
     },
     "execution_count": 22,
     "metadata": {},
     "output_type": "execute_result"
    }
   ],
   "source": [
    "len(spec_down[0:2])"
   ]
  },
  {
   "cell_type": "code",
   "execution_count": null,
   "id": "5fad1680",
   "metadata": {},
   "outputs": [],
   "source": []
  }
 ],
 "metadata": {
  "kernelspec": {
   "display_name": "Python 3",
   "language": "python",
   "name": "python3"
  },
  "language_info": {
   "codemirror_mode": {
    "name": "ipython",
    "version": 3
   },
   "file_extension": ".py",
   "mimetype": "text/x-python",
   "name": "python",
   "nbconvert_exporter": "python",
   "pygments_lexer": "ipython3",
   "version": "3.8.8"
  }
 },
 "nbformat": 4,
 "nbformat_minor": 5
}
