{
 "cells": [
  {
   "cell_type": "code",
   "execution_count": 2,
   "id": "c1732c8e",
   "metadata": {},
   "outputs": [],
   "source": [
    "import scipy.io as scio\n",
    "import numpy as np\n",
    "import os\n",
    "from tqdm.auto import tqdm, trange\n",
    "import torch.optim as optim\n",
    "import torch\n",
    "import torch.nn as nn\n",
    "import torch.nn.functional as F\n",
    "from sklearn.metrics import r2_score\n",
    "from torch.utils.data import DataLoader\n",
    "import matplotlib.pyplot as plt"
   ]
  },
  {
   "cell_type": "code",
   "execution_count": 2,
   "id": "537a6a79",
   "metadata": {},
   "outputs": [],
   "source": [
    "#get data of light and npc spectrum use pytorch\n",
    "lightFile = '/Users/sheeta/Desktop/learn_torch/Room_light.mat'\n",
    "lightdata = scio.loadmat(lightFile)\n",
    "lightdata = torch.Tensor(lightdata['light'])\n",
    "light = torch.transpose(lightdata,0,1)\n",
    "npcFile = '/Users/sheeta/Desktop/learn_torch/NPC_database.mat'\n",
    "npcdata = scio.loadmat(npcFile)\n",
    "npcdata = torch.Tensor(npcdata['NPC_spec'])\n",
    "\n",
    "npc = torch.transpose(npcdata,0,1)\n",
    "noise_npc = torch.where(light[1]>0.13, torch.zeros_like(npc), npc)\n",
    "mask = torch.where(light[1]>0.13, torch.zeros_like(npc), torch.ones_like(npc))\n",
    "noise_npc = [noise_npc, mask]"
   ]
  },
  {
   "cell_type": "code",
   "execution_count": 4,
   "id": "4a9a138c",
   "metadata": {},
   "outputs": [
    {
     "data": {
      "text/plain": [
       "[<matplotlib.lines.Line2D at 0x7f885bf985e0>]"
      ]
     },
     "execution_count": 4,
     "metadata": {},
     "output_type": "execute_result"
    },
    {
     "data": {
      "image/png": "[encoded data removed]",
      "text/plain": [
       "<Figure size 432x288 with 1 Axes>"
      ]
     },
     "metadata": {
      "needs_background": "light"
     },
     "output_type": "display_data"
    }
   ],
   "source": [
    "plt.plot(mask[0],'red')\n"
   ]
  },
  {
   "cell_type": "code",
   "execution_count": 7,
   "id": "997f6e58",
   "metadata": {},
   "outputs": [
    {
     "data": {
      "text/plain": [
       "torch.Size([779])"
      ]
     },
     "execution_count": 7,
     "metadata": {},
     "output_type": "execute_result"
    }
   ],
   "source": [
    "light[1].size()"
   ]
  },
  {
   "cell_type": "code",
   "execution_count": 3,
   "id": "d070af48",
   "metadata": {},
   "outputs": [],
   "source": [
    "npcFile = '/Users/sheeta/Desktop/learn_torch/NPC_database.mat'\n",
    "data = scio.loadmat(npcFile)\n",
    "npcdata = np.transpose(data['NPC_spec'])\n",
    "controldata = np.transpose(data['control_spec'])\n"
   ]
  },
  {
   "cell_type": "code",
   "execution_count": 29,
   "id": "145a07a9",
   "metadata": {},
   "outputs": [],
   "source": [
    "mix = np.concatenate((controldata, npcdata),axis = 0)"
   ]
  },
  {
   "cell_type": "code",
   "execution_count": 32,
   "id": "0f7431d4",
   "metadata": {},
   "outputs": [],
   "source": [
    "len(mix)\n",
    "np.save(\"golden_standard\",mix)"
   ]
  },
  {
   "cell_type": "code",
   "execution_count": 3,
   "id": "a65596b4",
   "metadata": {},
   "outputs": [],
   "source": [
    "training_data = []\n",
    "for i in range(len(npc)):\n",
    "    training_data.append([np.array(noise_npc[0][i]),np.array(noise_npc[1][i]),np.array(npc[i])])              \n",
    "np.save(\"training_data.npy\",training_data)    "
   ]
  },
  {
   "cell_type": "code",
   "execution_count": 11,
   "id": "21253b2b",
   "metadata": {},
   "outputs": [
    {
     "data": {
      "text/plain": [
       "[tensor([[-7.3048e-03,  2.5976e-02,  5.6767e-02,  ...,  7.1595e-01,\n",
       "           2.3011e-02, -6.6993e-01],\n",
       "         [ 1.2336e-01,  5.9854e-02, -5.3992e-03,  ...,  6.0309e-01,\n",
       "          -3.8910e-03, -6.1087e-01],\n",
       "         [-6.1377e-03,  3.1418e-02,  6.6721e-02,  ...,  1.6721e+00,\n",
       "           2.1738e+00,  2.6755e+00],\n",
       "         ...,\n",
       "         [-5.9408e-03,  8.3534e-02,  1.7175e-01,  ...,  2.4515e+00,\n",
       "           2.8156e+00,  3.1797e+00],\n",
       "         [-9.5568e-04,  5.1433e-02,  1.0358e-01,  ...,  2.3605e+00,\n",
       "           2.7691e+00,  3.1776e+00],\n",
       "         [-6.7781e-03,  1.1105e-01,  2.2719e-01,  ...,  1.0750e+00,\n",
       "           1.1644e+00,  1.2539e+00]]),\n",
       " tensor([[1., 1., 1.,  ..., 1., 1., 1.],\n",
       "         [1., 1., 1.,  ..., 1., 1., 1.],\n",
       "         [1., 1., 1.,  ..., 1., 1., 1.],\n",
       "         ...,\n",
       "         [1., 1., 1.,  ..., 1., 1., 1.],\n",
       "         [1., 1., 1.,  ..., 1., 1., 1.],\n",
       "         [1., 1., 1.,  ..., 1., 1., 1.]])]"
      ]
     },
     "execution_count": 11,
     "metadata": {},
     "output_type": "execute_result"
    }
   ],
   "source": [
    "noise_npc"
   ]
  },
  {
   "cell_type": "code",
   "execution_count": 8,
   "id": "a812433d",
   "metadata": {},
   "outputs": [
    {
     "ename": "NameError",
     "evalue": "name 'training_data' is not defined",
     "output_type": "error",
     "traceback": [
      "\u001b[0;31m---------------------------------------------------------------------------\u001b[0m",
      "\u001b[0;31mNameError\u001b[0m                                 Traceback (most recent call last)",
      "\u001b[0;32m<ipython-input-8-2385d1941965>\u001b[0m in \u001b[0;36m<module>\u001b[0;34m\u001b[0m\n\u001b[0;32m----> 1\u001b[0;31m \u001b[0mX1\u001b[0m \u001b[0;34m=\u001b[0m \u001b[0mtorch\u001b[0m\u001b[0;34m.\u001b[0m\u001b[0mTensor\u001b[0m\u001b[0;34m(\u001b[0m\u001b[0;34m[\u001b[0m\u001b[0mi\u001b[0m\u001b[0;34m[\u001b[0m\u001b[0;36m0\u001b[0m\u001b[0;34m]\u001b[0m \u001b[0;32mfor\u001b[0m \u001b[0mi\u001b[0m \u001b[0;32min\u001b[0m \u001b[0mtraining_data\u001b[0m\u001b[0;34m]\u001b[0m\u001b[0;34m)\u001b[0m\u001b[0;34m\u001b[0m\u001b[0;34m\u001b[0m\u001b[0m\n\u001b[0m\u001b[1;32m      2\u001b[0m \u001b[0mX2\u001b[0m \u001b[0;34m=\u001b[0m \u001b[0mtorch\u001b[0m\u001b[0;34m.\u001b[0m\u001b[0mTensor\u001b[0m\u001b[0;34m(\u001b[0m\u001b[0;34m[\u001b[0m\u001b[0mi\u001b[0m\u001b[0;34m[\u001b[0m\u001b[0;36m1\u001b[0m\u001b[0;34m]\u001b[0m \u001b[0;32mfor\u001b[0m \u001b[0mi\u001b[0m \u001b[0;32min\u001b[0m \u001b[0mtraining_data\u001b[0m\u001b[0;34m]\u001b[0m\u001b[0;34m)\u001b[0m\u001b[0;34m\u001b[0m\u001b[0;34m\u001b[0m\u001b[0m\n\u001b[1;32m      3\u001b[0m \u001b[0mX\u001b[0m \u001b[0;34m=\u001b[0m \u001b[0mtorch\u001b[0m\u001b[0;34m.\u001b[0m\u001b[0mstack\u001b[0m\u001b[0;34m(\u001b[0m\u001b[0;34m(\u001b[0m\u001b[0mX1\u001b[0m\u001b[0;34m,\u001b[0m \u001b[0mX2\u001b[0m\u001b[0;34m)\u001b[0m\u001b[0;34m,\u001b[0m \u001b[0mdim\u001b[0m\u001b[0;34m=\u001b[0m\u001b[0;36m1\u001b[0m\u001b[0;34m)\u001b[0m\u001b[0;34m\u001b[0m\u001b[0;34m\u001b[0m\u001b[0m\n\u001b[1;32m      4\u001b[0m \u001b[0my\u001b[0m \u001b[0;34m=\u001b[0m \u001b[0mtorch\u001b[0m\u001b[0;34m.\u001b[0m\u001b[0mTensor\u001b[0m\u001b[0;34m(\u001b[0m\u001b[0;34m[\u001b[0m\u001b[0mi\u001b[0m\u001b[0;34m[\u001b[0m\u001b[0;36m2\u001b[0m\u001b[0;34m]\u001b[0m \u001b[0;32mfor\u001b[0m \u001b[0mi\u001b[0m \u001b[0;32min\u001b[0m \u001b[0mtraining_data\u001b[0m\u001b[0;34m]\u001b[0m\u001b[0;34m)\u001b[0m\u001b[0;34m\u001b[0m\u001b[0;34m\u001b[0m\u001b[0m\n\u001b[1;32m      5\u001b[0m \u001b[0;34m\u001b[0m\u001b[0m\n",
      "\u001b[0;31mNameError\u001b[0m: name 'training_data' is not defined"
     ]
    }
   ],
   "source": [
    "\n",
    "X1 = torch.Tensor([i[0] for i in training_data])\n",
    "X2 = torch.Tensor([i[1] for i in training_data])\n",
    "X = torch.stack((X1, X2), dim=1)\n",
    "y = torch.Tensor([i[2] for i in training_data])\n",
    "\n",
    "VAL_PCT = 0.1  # lets reserve 10% of our data for validation\n",
    "val_size = int(len(X)*VAL_PCT)\n",
    "print(val_size)\n",
    "\n",
    "train_X = X[:-val_size]\n",
    "train_y = y[:-val_size]\n",
    "\n",
    "test_X = X[-val_size:]\n",
    "test_y = y[-val_size:]"
   ]
  },
  {
   "cell_type": "code",
   "execution_count": 5,
   "id": "51d834e1",
   "metadata": {},
   "outputs": [],
   "source": [
    "hidden_dim = 64\n",
    "layer_dim = 3\n",
    "dropout = 0.2\n",
    "learning_rate = 1e-3\n",
    "weight_decay = 1e-6\n",
    "\n",
    "# model_params = {'input_dim': input_dim,\n",
    "#                 'hidden_dim' : hidden_dim,\n",
    "#                 'layer_dim' : layer_dim,\n",
    "#                 'output_dim' : output_dim,\n",
    "#                 'dropout_prob' : dropout}\n",
    "# net = get_model('lstm', model_params)\n"
   ]
  },
  {
   "cell_type": "code",
   "execution_count": 3,
   "id": "8927b26b",
   "metadata": {},
   "outputs": [
    {
     "name": "stderr",
     "output_type": "stream",
     "text": [
      "[W NNPACK.cpp:51] Could not initialize NNPACK! Reason: Unsupported hardware.\n"
     ]
    }
   ],
   "source": [
    "class CNN(nn.Module):\n",
    "    def __init__(self):\n",
    "        super().__init__() \n",
    "        torch.manual_seed(20010315)\n",
    "        self.conv1 = nn.Conv1d(2, 32,5 ,dilation = 3 ,padding = 6)\n",
    "        self.conv2 = nn.Conv1d(32, 64, 5,dilation = 3,padding = 6) \n",
    "        self.conv3 = nn.Conv1d(64, 128, 5,padding = 6)\n",
    "        self.D = nn.Dropout(0.2)\n",
    "      #  self.lstm = nn.LSTM(input_size=len(orig_npc[0]), hidden_size=256, num_layers=3)\n",
    "        x = torch.randn(2*779).view(-1,2,779)\n",
    "        self._to_linear = None\n",
    "        self.convs(x)\n",
    "        self.fc1 = nn.Linear(self._to_linear, 779) #flattening.\n",
    "   \n",
    "    def convs(self, x):\n",
    "        x = F.max_pool1d(F.leaky_relu(self.conv1(x)), (2))\n",
    "        x = F.max_pool1d(F.leaky_relu(self.conv2(x)), (2))\n",
    "        x = F.max_pool1d(F.leaky_relu(self.conv3(x)), (2))\n",
    "\n",
    "        if self._to_linear is None:\n",
    "            self._to_linear = x[0].shape[0]*x[0].shape[1]\n",
    "        return x\n",
    "    \n",
    "\n",
    "    def forward(self, x):\n",
    "        x = self.convs(x)\n",
    "        x = x.view(-1, self._to_linear)  # .view is reshape ... this flattens X before \n",
    "        x = self.D(x)\n",
    "#         x = F.relu(self.fc1(x))\n",
    "        x = self.fc1(x) # bc this is our output layer. No activation here.\n",
    "        return x\n",
    "net = CNN()"
   ]
  },
  {
   "cell_type": "code",
   "execution_count": 5,
   "id": "c6085dc7",
   "metadata": {},
   "outputs": [],
   "source": [
    "x = torch.randn(2*779).view(-1,2,779)"
   ]
  },
  {
   "cell_type": "code",
   "execution_count": 6,
   "id": "f8ac990a",
   "metadata": {},
   "outputs": [],
   "source": [
    "conv1 = nn.Conv1d(2, 32,5 ,dilation = 3 ,padding = 6)"
   ]
  },
  {
   "cell_type": "code",
   "execution_count": 7,
   "id": "5b49f8f3",
   "metadata": {},
   "outputs": [],
   "source": [
    "x = F.max_pool1d(F.leaky_relu(conv1(x)), (2))"
   ]
  },
  {
   "cell_type": "code",
   "execution_count": 8,
   "id": "ac4ddc26",
   "metadata": {},
   "outputs": [],
   "source": [
    "conv2 = nn.Conv1d(32, 64, 5,dilation = 3,padding = 6) "
   ]
  },
  {
   "cell_type": "code",
   "execution_count": 10,
   "id": "82b24b6b",
   "metadata": {},
   "outputs": [],
   "source": [
    "x = F.max_pool1d(F.leaky_relu(conv2(x)), (2))"
   ]
  },
  {
   "cell_type": "code",
   "execution_count": 11,
   "id": "9dc20ac0",
   "metadata": {},
   "outputs": [],
   "source": [
    "conv3 = nn.Conv1d(64, 128, 5,padding = 6)"
   ]
  },
  {
   "cell_type": "code",
   "execution_count": 12,
   "id": "7723d97d",
   "metadata": {},
   "outputs": [],
   "source": [
    "x = F.max_pool1d(F.leaky_relu(conv3(x)), (2))"
   ]
  },
  {
   "cell_type": "code",
   "execution_count": 13,
   "id": "82d43e76",
   "metadata": {},
   "outputs": [
    {
     "data": {
      "text/plain": [
       "torch.Size([1, 128, 101])"
      ]
     },
     "execution_count": 13,
     "metadata": {},
     "output_type": "execute_result"
    }
   ],
   "source": [
    "x.shape"
   ]
  },
  {
   "cell_type": "code",
   "execution_count": 14,
   "id": "235f82e3",
   "metadata": {},
   "outputs": [],
   "source": [
    "x = x.view(-1, 128*101)"
   ]
  },
  {
   "cell_type": "code",
   "execution_count": 15,
   "id": "98d4d37e",
   "metadata": {},
   "outputs": [],
   "source": [
    "fc1 = nn.Linear(128*101, 779)\n",
    "x = fc1(x)"
   ]
  },
  {
   "cell_type": "code",
   "execution_count": 17,
   "id": "d46e3e8b",
   "metadata": {},
   "outputs": [
    {
     "data": {
      "text/plain": [
       "torch.Size([1, 779])"
      ]
     },
     "execution_count": 17,
     "metadata": {},
     "output_type": "execute_result"
    }
   ],
   "source": [
    "x.shape"
   ]
  },
  {
   "cell_type": "code",
   "execution_count": 19,
   "id": "34d712d7",
   "metadata": {},
   "outputs": [
    {
     "name": "stdout",
     "output_type": "stream",
     "text": [
      "tensor(0.0636) 0.9538758804866787\n"
     ]
    }
   ],
   "source": [
    "def fwd_pass(X,y,train = False):\n",
    "    if train:\n",
    "        net.zero_grad()\n",
    "    \n",
    "    output = net(X)\n",
    "    loss = loss_function(output,y)\n",
    "    \n",
    "    output = output.detach().numpy()\n",
    "    score  = [r2_score(i,j) for i, j in zip(output, y)]\n",
    "    score = np.mean(score)\n",
    "    if train:\n",
    "        loss.backward()\n",
    "        optimizer.step()\n",
    "    return loss, score\n",
    "def test(size=32):\n",
    "    with torch.no_grad():\n",
    "        randome_start = np.random.randint(len(test_X)-size)\n",
    "        X, y = test_X[randome_start:randome_start+size], test_y[randome_start:randome_start+size]\n",
    "        loss,r2score = fwd_pass(X.view(-1, 2,779),y)\n",
    "    return loss,r2score\n",
    "\n",
    "loss, r2score = test(size = 412)\n",
    "print(loss,r2score)"
   ]
  },
  {
   "cell_type": "code",
   "execution_count": 14,
   "id": "e5d1d235",
   "metadata": {},
   "outputs": [
    {
     "data": {
      "application/vnd.jupyter.widget-view+json": {
       "model_id": "9f1a725be33449b7a87653c09ca04db7",
       "version_major": 2,
       "version_minor": 0
      },
      "text/plain": [
       "  0%|          | 0/10 [00:00<?, ?it/s]"
      ]
     },
     "metadata": {},
     "output_type": "display_data"
    },
    {
     "data": {
      "application/vnd.jupyter.widget-view+json": {
       "model_id": "63d2d2519d644cf19c6682403458460c",
       "version_major": 2,
       "version_minor": 0
      },
      "text/plain": [
       "  0%|          | 0/75 [00:00<?, ?it/s]"
      ]
     },
     "metadata": {},
     "output_type": "display_data"
    },
    {
     "name": "stdout",
     "output_type": "stream",
     "text": [
      "Train loss: tensor(0.1401, grad_fn=<MseLossBackward>) score: 0.8838016523895156\n",
      "Test loss: tensor(0.1696) score: 0.8664048496257237\n"
     ]
    },
    {
     "data": {
      "application/vnd.jupyter.widget-view+json": {
       "model_id": "0c994d3202cd4f9ba86db4274c395746",
       "version_major": 2,
       "version_minor": 0
      },
      "text/plain": [
       "  0%|          | 0/75 [00:00<?, ?it/s]"
      ]
     },
     "metadata": {},
     "output_type": "display_data"
    },
    {
     "name": "stdout",
     "output_type": "stream",
     "text": [
      "Train loss: tensor(0.1202, grad_fn=<MseLossBackward>) score: 0.9046825042171193\n",
      "Test loss: tensor(0.1483) score: 0.8887201281925521\n"
     ]
    },
    {
     "data": {
      "application/vnd.jupyter.widget-view+json": {
       "model_id": "c1a4cb16d34442fe9c8951930bfd73d1",
       "version_major": 2,
       "version_minor": 0
      },
      "text/plain": [
       "  0%|          | 0/75 [00:00<?, ?it/s]"
      ]
     },
     "metadata": {},
     "output_type": "display_data"
    },
    {
     "name": "stdout",
     "output_type": "stream",
     "text": [
      "Train loss: tensor(0.0984, grad_fn=<MseLossBackward>) score: 0.9228243163524757\n",
      "Test loss: tensor(0.1320) score: 0.8987536196436927\n"
     ]
    },
    {
     "data": {
      "application/vnd.jupyter.widget-view+json": {
       "model_id": "de43b2ef12834c7588d3f35ee965bc57",
       "version_major": 2,
       "version_minor": 0
      },
      "text/plain": [
       "  0%|          | 0/75 [00:00<?, ?it/s]"
      ]
     },
     "metadata": {},
     "output_type": "display_data"
    },
    {
     "name": "stdout",
     "output_type": "stream",
     "text": [
      "Train loss: tensor(0.0799, grad_fn=<MseLossBackward>) score: 0.9368422474142013\n",
      "Test loss: tensor(0.1069) score: 0.9237495957501111\n"
     ]
    },
    {
     "data": {
      "application/vnd.jupyter.widget-view+json": {
       "model_id": "c369e02e600c4b199edcf2665bd1e17d",
       "version_major": 2,
       "version_minor": 0
      },
      "text/plain": [
       "  0%|          | 0/75 [00:00<?, ?it/s]"
      ]
     },
     "metadata": {},
     "output_type": "display_data"
    },
    {
     "name": "stdout",
     "output_type": "stream",
     "text": [
      "Train loss: tensor(0.0659, grad_fn=<MseLossBackward>) score: 0.9501979588723586\n",
      "Test loss: tensor(0.0818) score: 0.9370075548130388\n"
     ]
    },
    {
     "data": {
      "application/vnd.jupyter.widget-view+json": {
       "model_id": "82d320adc62649319586155d44eb06c1",
       "version_major": 2,
       "version_minor": 0
      },
      "text/plain": [
       "  0%|          | 0/75 [00:00<?, ?it/s]"
      ]
     },
     "metadata": {},
     "output_type": "display_data"
    },
    {
     "name": "stdout",
     "output_type": "stream",
     "text": [
      "Train loss: tensor(0.0608, grad_fn=<MseLossBackward>) score: 0.9582561433895163\n",
      "Test loss: tensor(0.0803) score: 0.9400458642337618\n"
     ]
    },
    {
     "data": {
      "application/vnd.jupyter.widget-view+json": {
       "model_id": "c569385489f84fffb1c6397be7d563ad",
       "version_major": 2,
       "version_minor": 0
      },
      "text/plain": [
       "  0%|          | 0/75 [00:00<?, ?it/s]"
      ]
     },
     "metadata": {},
     "output_type": "display_data"
    },
    {
     "name": "stdout",
     "output_type": "stream",
     "text": [
      "Train loss: tensor(0.0504, grad_fn=<MseLossBackward>) score: 0.9634845628157871\n",
      "Test loss: tensor(0.0661) score: 0.9511484121472332\n"
     ]
    },
    {
     "data": {
      "application/vnd.jupyter.widget-view+json": {
       "model_id": "ea3f5e9b38f84e949dda2a8aae8cf3d0",
       "version_major": 2,
       "version_minor": 0
      },
      "text/plain": [
       "  0%|          | 0/75 [00:00<?, ?it/s]"
      ]
     },
     "metadata": {},
     "output_type": "display_data"
    },
    {
     "name": "stdout",
     "output_type": "stream",
     "text": [
      "Train loss: tensor(0.0501, grad_fn=<MseLossBackward>) score: 0.9649160894714074\n",
      "Test loss: tensor(0.0649) score: 0.9516304209084515\n"
     ]
    },
    {
     "data": {
      "application/vnd.jupyter.widget-view+json": {
       "model_id": "0c6fbf7bf3654f85b02e7561fa5ec8be",
       "version_major": 2,
       "version_minor": 0
      },
      "text/plain": [
       "  0%|          | 0/75 [00:00<?, ?it/s]"
      ]
     },
     "metadata": {},
     "output_type": "display_data"
    },
    {
     "name": "stdout",
     "output_type": "stream",
     "text": [
      "Train loss: tensor(0.0483, grad_fn=<MseLossBackward>) score: 0.9661853797278366\n",
      "Test loss: tensor(0.0612) score: 0.953322075215717\n"
     ]
    },
    {
     "data": {
      "application/vnd.jupyter.widget-view+json": {
       "model_id": "415bfcde79e5424d8e27088bda3d292b",
       "version_major": 2,
       "version_minor": 0
      },
      "text/plain": [
       "  0%|          | 0/75 [00:00<?, ?it/s]"
      ]
     },
     "metadata": {},
     "output_type": "display_data"
    },
    {
     "name": "stdout",
     "output_type": "stream",
     "text": [
      "Train loss: tensor(0.0516, grad_fn=<MseLossBackward>) score: 0.9660684700286507\n",
      "Test loss: tensor(0.0610) score: 0.957451977408321\n"
     ]
    }
   ],
   "source": [
    "optimizer = optim.Adam(net.parameters(), lr=learning_rate)\n",
    "loss_function = nn.MSELoss()\n",
    "def train(net = net,\n",
    "          epochs=10,\n",
    "          BATCH_SIZE = 50):\n",
    "\n",
    "    for e in trange(epochs):\n",
    "        for i in tqdm(range(0, len(train_X), BATCH_SIZE)):\n",
    "            batch_X = train_X[i:i+BATCH_SIZE].view(-1,2,779)\n",
    "            batch_y = train_y[i:i+BATCH_SIZE].view(-1,1,779).squeeze(1)\n",
    "            loss,score = fwd_pass(batch_X, batch_y, train=True)\n",
    "        print('Train','loss:', loss, 'score:' ,score )\n",
    "        loss_test, r2score_test = test(size = 40)\n",
    "        print('Test','loss:', loss_test, 'score:' ,r2score_test )\n",
    "        \n",
    "train()"
   ]
  },
  {
   "cell_type": "code",
   "execution_count": 20,
   "id": "4e124201",
   "metadata": {},
   "outputs": [
    {
     "data": {
      "image/png": "[encoded data removed]",
      "text/plain": [
       "<Figure size 432x288 with 1 Axes>"
      ]
     },
     "metadata": {
      "needs_background": "light"
     },
     "output_type": "display_data"
    }
   ],
   "source": [
    "\n",
    "net_out1 = net(test_X[6].view(-1, 2, 779))\n",
    "\n",
    "predict = net_out1[0].cpu().detach()\n",
    "ground_truth = test_y[6]\n",
    "noise = test_X[6][0]\n",
    "            \n",
    "#plt.plot(predict)\n",
    "plt.plot(ground_truth) \n",
    "plt.plot(noise) \n",
    "plt.show()"
   ]
  },
  {
   "cell_type": "code",
   "execution_count": 22,
   "id": "c62703c7",
   "metadata": {},
   "outputs": [
    {
     "data": {
      "image/png": "[encoded data removed]",
      "text/plain": [
       "<Figure size 432x288 with 1 Axes>"
      ]
     },
     "metadata": {
      "needs_background": "light"
     },
     "output_type": "display_data"
    }
   ],
   "source": [
    "plt.plot(predict,'green')\n",
    "plt.plot(ground_truth,'blue') \n",
    "#plt.plot(noise) \n",
    "plt.show()"
   ]
  },
  {
   "cell_type": "code",
   "execution_count": 776,
   "id": "8039506e",
   "metadata": {},
   "outputs": [],
   "source": [
    "noiselist = []\n",
    "for i in range(779):\n",
    "    if light[0][i]>0.13:\n",
    "        noiselist.append(i)\n",
    "        "
   ]
  },
  {
   "cell_type": "code",
   "execution_count": null,
   "id": "7d92c05a",
   "metadata": {},
   "outputs": [],
   "source": []
  }
 ],
 "metadata": {
  "kernelspec": {
   "display_name": "Python 3 (ipykernel)",
   "language": "python",
   "name": "python3"
  },
  "language_info": {
   "codemirror_mode": {
    "name": "ipython",
    "version": 3
   },
   "file_extension": ".py",
   "mimetype": "text/x-python",
   "name": "python",
   "nbconvert_exporter": "python",
   "pygments_lexer": "ipython3",
   "version": "3.9.12"
  }
 },
 "nbformat": 4,
 "nbformat_minor": 5
}
