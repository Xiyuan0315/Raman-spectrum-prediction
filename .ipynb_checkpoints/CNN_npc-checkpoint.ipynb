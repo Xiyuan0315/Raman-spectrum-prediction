{
 "cells": [
  {
   "cell_type": "code",
   "execution_count": 92,
   "id": "c1732c8e",
   "metadata": {},
   "outputs": [],
   "source": [
    "import scipy.io as scio\n",
    "import numpy as np\n",
    "import os\n",
    "from tqdm.auto import tqdm, trange\n",
    "import torch.optim as optim\n",
    "import torch\n",
    "import torch.nn as nn\n",
    "import torch.nn.functional as F\n",
    "from sklearn.metrics import r2_score\n",
    "from torch.utils.data import DataLoader\n",
    "import matplotlib.pyplot as plt"
   ]
  },
  {
   "cell_type": "code",
   "execution_count": 16,
   "id": "537a6a79",
   "metadata": {},
   "outputs": [],
   "source": [
    "#get data of light and npc spectrum use pytorch\n",
    "lightFile = '/Users/sheeta/Desktop/learn_torch/Room_light.mat'\n",
    "lightdata = scio.loadmat(lightFile)\n",
    "lightdata = torch.Tensor(lightdata['light'])\n",
    "light = torch.transpose(lightdata,0,1)\n",
    "npcFile = '/Users/sheeta/Desktop/learn_torch/NPC_database.mat'\n",
    "npcdata = scio.loadmat(npcFile)\n",
    "npcdata = torch.Tensor(npcdata['NPC_spec'])\n",
    "\n",
    "npc = torch.transpose(npcdata,0,1)\n",
    "noise_npc = torch.where(light[1]>0.13, torch.zeros_like(npc), npc)\n",
    "mask = torch.where(light[1]>0.13, torch.zeros_like(npc), torch.ones_like(npc))\n",
    "noise_npc = [noise_npc, mask]"
   ]
  },
  {
   "cell_type": "code",
   "execution_count": 52,
   "id": "a65596b4",
   "metadata": {},
   "outputs": [],
   "source": [
    "training_data = []\n",
    "for i in range(len(npc)):\n",
    "    training_data.append([np.array(noise_npc[0][i]),np.array(noise_npc[1][i]),np.array(npc[i])])              \n",
    "np.save(\"training_data.npy\",training_data)    "
   ]
  },
  {
   "cell_type": "code",
   "execution_count": 68,
   "id": "a812433d",
   "metadata": {},
   "outputs": [],
   "source": [
    "X1 = torch.Tensor([i[0] for i in training_data])\n",
    "X2 = torch.Tensor([i[1] for i in training_data])\n",
    "X = torch.stack((X1, X2), dim=1)\n",
    "y = torch.Tensor([i[2] for i in training_data])\n",
    "\n",
    "VAL_PCT = 0.1  # lets reserve 10% of our data for validation\n",
    "val_size = int(len(X)*VAL_PCT)\n",
    "print(val_size)\n",
    "\n",
    "train_X = X[:-val_size]\n",
    "train_y = y[:-val_size]\n",
    "\n",
    "test_X = X[-val_size:]\n",
    "test_y = y[-val_size:]"
   ]
  },
  {
   "cell_type": "code",
   "execution_count": 88,
   "id": "51d834e1",
   "metadata": {},
   "outputs": [],
   "source": [
    "hidden_dim = 64\n",
    "layer_dim = 3\n",
    "dropout = 0.2\n",
    "learning_rate = 1e-3\n",
    "weight_decay = 1e-6\n",
    "\n",
    "# model_params = {'input_dim': input_dim,\n",
    "#                 'hidden_dim' : hidden_dim,\n",
    "#                 'layer_dim' : layer_dim,\n",
    "#                 'output_dim' : output_dim,\n",
    "#                 'dropout_prob' : dropout}\n",
    "# net = get_model('lstm', model_params)\n"
   ]
  },
  {
   "cell_type": "code",
   "execution_count": 174,
   "id": "8927b26b",
   "metadata": {},
   "outputs": [],
   "source": [
    "class CNN(nn.Module):\n",
    "    def __init__(self):\n",
    "        super().__init__() \n",
    "        torch.manual_seed(20010315)\n",
    "        self.conv1 = nn.Conv1d(2, 32,5 ,dilation = 3 ,padding = 6)\n",
    "        self.conv2 = nn.Conv1d(32, 64, 5,dilation = 3,padding = 6) \n",
    "        self.conv3 = nn.Conv1d(64, 128, 5,padding = 6)\n",
    "        self.D = nn.Dropout(0.2)\n",
    "      #  self.lstm = nn.LSTM(input_size=len(orig_npc[0]), hidden_size=256, num_layers=3)\n",
    "        x = torch.randn(2*779).view(-1,2,779)\n",
    "        self._to_linear = None\n",
    "        self.convs(x)\n",
    "        self.fc1 = nn.Linear(self._to_linear, 779) #flattening.\n",
    "    \n",
    "    def convs(self, x):\n",
    "        x = F.max_pool1d(F.relu(self.conv1(x)), (2))\n",
    "        x = F.max_pool1d(F.relu(self.conv2(x)), (2))\n",
    "        x = F.max_pool1d(F.relu(self.conv3(x)), (2))\n",
    "\n",
    "        if self._to_linear is None:\n",
    "            self._to_linear = x[0].shape[0]*x[0].shape[1]\n",
    "        return x\n",
    "    \n",
    "\n",
    "    def forward(self, x):\n",
    "        x = self.convs(x)\n",
    "        x = x.view(-1, self._to_linear)  # .view is reshape ... this flattens X before \n",
    "        x = self.D(x)\n",
    "#         x = F.relu(self.fc1(x))\n",
    "        x = self.fc1(x) # bc this is our output layer. No activation here.\n",
    "        return x\n",
    "net = CNN()"
   ]
  },
  {
   "cell_type": "code",
   "execution_count": 219,
   "id": "34d712d7",
   "metadata": {},
   "outputs": [
    {
     "name": "stdout",
     "output_type": "stream",
     "text": [
      "tensor(0.0645) 0.9518030384588902\n"
     ]
    }
   ],
   "source": [
    "def fwd_pass(X,y,train = False):\n",
    "    if train:\n",
    "        net.zero_grad()\n",
    "    \n",
    "    output = net(X)\n",
    "    loss = loss_function(output,y)\n",
    "    \n",
    "    output = output.detach().numpy()\n",
    "    score  = [r2_score(i,j) for i, j in zip(output, y)]\n",
    "    score = np.mean(score)\n",
    "    if train:\n",
    "        loss.backward()\n",
    "        optimizer.step()\n",
    "    return loss, score\n",
    "def test(size=32):\n",
    "    with torch.no_grad():\n",
    "        randome_start = np.random.randint(len(test_X)-size)\n",
    "        X, y = test_X[randome_start:randome_start+size], test_y[randome_start:randome_start+size]\n",
    "        loss,r2score = fwd_pass(X.view(-1, 2,779),y)\n",
    "    return loss,r2score\n",
    "\n",
    "loss, r2score = test(size = 400)\n",
    "print(loss,r2score)"
   ]
  },
  {
   "cell_type": "code",
   "execution_count": 216,
   "id": "e5d1d235",
   "metadata": {},
   "outputs": [
    {
     "data": {
      "application/vnd.jupyter.widget-view+json": {
       "model_id": "a52d0d16000f4b189eb024e597a3f6fd",
       "version_major": 2,
       "version_minor": 0
      },
      "text/plain": [
       "  0%|          | 0/10 [00:00<?, ?it/s]"
      ]
     },
     "metadata": {},
     "output_type": "display_data"
    },
    {
     "data": {
      "application/vnd.jupyter.widget-view+json": {
       "model_id": "a6fb4e4a23584e2db7a07ded8182d07b",
       "version_major": 2,
       "version_minor": 0
      },
      "text/plain": [
       "  0%|          | 0/75 [00:00<?, ?it/s]"
      ]
     },
     "metadata": {},
     "output_type": "display_data"
    },
    {
     "name": "stdout",
     "output_type": "stream",
     "text": [
      "Train loss: tensor(0.1411, grad_fn=<MseLossBackward>) score: 0.8827826177797728\n",
      "Test loss: tensor(0.1647) score: 0.8671787797193831\n"
     ]
    },
    {
     "data": {
      "application/vnd.jupyter.widget-view+json": {
       "model_id": "fd0050f8dc8c4b21b1ed0c537fd2b2ea",
       "version_major": 2,
       "version_minor": 0
      },
      "text/plain": [
       "  0%|          | 0/75 [00:00<?, ?it/s]"
      ]
     },
     "metadata": {},
     "output_type": "display_data"
    },
    {
     "name": "stdout",
     "output_type": "stream",
     "text": [
      "Train loss: tensor(0.1319, grad_fn=<MseLossBackward>) score: 0.8949355504970199\n",
      "Test loss: tensor(0.1594) score: 0.8817295920146041\n"
     ]
    },
    {
     "data": {
      "application/vnd.jupyter.widget-view+json": {
       "model_id": "f057605ca0a34ecf88705f53d5c74f58",
       "version_major": 2,
       "version_minor": 0
      },
      "text/plain": [
       "  0%|          | 0/75 [00:00<?, ?it/s]"
      ]
     },
     "metadata": {},
     "output_type": "display_data"
    },
    {
     "name": "stdout",
     "output_type": "stream",
     "text": [
      "Train loss: tensor(0.1124, grad_fn=<MseLossBackward>) score: 0.9116689267473354\n",
      "Test loss: tensor(0.1402) score: 0.8910773368503225\n"
     ]
    },
    {
     "data": {
      "application/vnd.jupyter.widget-view+json": {
       "model_id": "eab84e902cd94668b92f942613db17a2",
       "version_major": 2,
       "version_minor": 0
      },
      "text/plain": [
       "  0%|          | 0/75 [00:00<?, ?it/s]"
      ]
     },
     "metadata": {},
     "output_type": "display_data"
    },
    {
     "name": "stdout",
     "output_type": "stream",
     "text": [
      "Train loss: tensor(0.1004, grad_fn=<MseLossBackward>) score: 0.9272301430328972\n",
      "Test loss: tensor(0.0914) score: 0.9272453878843544\n"
     ]
    },
    {
     "data": {
      "application/vnd.jupyter.widget-view+json": {
       "model_id": "7c774294460043e7bbb07153e71315db",
       "version_major": 2,
       "version_minor": 0
      },
      "text/plain": [
       "  0%|          | 0/75 [00:00<?, ?it/s]"
      ]
     },
     "metadata": {},
     "output_type": "display_data"
    },
    {
     "name": "stdout",
     "output_type": "stream",
     "text": [
      "Train loss: tensor(0.0825, grad_fn=<MseLossBackward>) score: 0.941195036605367\n",
      "Test loss: tensor(0.0934) score: 0.9309969194305081\n"
     ]
    },
    {
     "data": {
      "application/vnd.jupyter.widget-view+json": {
       "model_id": "ef84956220b8459e99d470e280f52e91",
       "version_major": 2,
       "version_minor": 0
      },
      "text/plain": [
       "  0%|          | 0/75 [00:00<?, ?it/s]"
      ]
     },
     "metadata": {},
     "output_type": "display_data"
    },
    {
     "name": "stdout",
     "output_type": "stream",
     "text": [
      "Train loss: tensor(0.0727, grad_fn=<MseLossBackward>) score: 0.9481579331693041\n",
      "Test loss: tensor(0.0857) score: 0.9379378820294081\n"
     ]
    },
    {
     "data": {
      "application/vnd.jupyter.widget-view+json": {
       "model_id": "d65ecf2296ea492e8a88d5cd63b5fe9f",
       "version_major": 2,
       "version_minor": 0
      },
      "text/plain": [
       "  0%|          | 0/75 [00:00<?, ?it/s]"
      ]
     },
     "metadata": {},
     "output_type": "display_data"
    },
    {
     "name": "stdout",
     "output_type": "stream",
     "text": [
      "Train loss: tensor(0.0628, grad_fn=<MseLossBackward>) score: 0.9548947765081548\n",
      "Test loss: tensor(0.0764) score: 0.9433194696317054\n"
     ]
    },
    {
     "data": {
      "application/vnd.jupyter.widget-view+json": {
       "model_id": "43644e2cad87459a92ace7613ae6d2ff",
       "version_major": 2,
       "version_minor": 0
      },
      "text/plain": [
       "  0%|          | 0/75 [00:00<?, ?it/s]"
      ]
     },
     "metadata": {},
     "output_type": "display_data"
    },
    {
     "name": "stdout",
     "output_type": "stream",
     "text": [
      "Train loss: tensor(0.0594, grad_fn=<MseLossBackward>) score: 0.9593590830260992\n",
      "Test loss: tensor(0.0753) score: 0.9496866636149681\n"
     ]
    },
    {
     "data": {
      "application/vnd.jupyter.widget-view+json": {
       "model_id": "e463b5ab4004408e832c32d088b9c4ba",
       "version_major": 2,
       "version_minor": 0
      },
      "text/plain": [
       "  0%|          | 0/75 [00:00<?, ?it/s]"
      ]
     },
     "metadata": {},
     "output_type": "display_data"
    },
    {
     "name": "stdout",
     "output_type": "stream",
     "text": [
      "Train loss: tensor(0.0569, grad_fn=<MseLossBackward>) score: 0.9546053526484871\n",
      "Test loss: tensor(0.0696) score: 0.9495687553823297\n"
     ]
    },
    {
     "data": {
      "application/vnd.jupyter.widget-view+json": {
       "model_id": "66d3a0a8f2a84e0d99fc72320044b1b3",
       "version_major": 2,
       "version_minor": 0
      },
      "text/plain": [
       "  0%|          | 0/75 [00:00<?, ?it/s]"
      ]
     },
     "metadata": {},
     "output_type": "display_data"
    },
    {
     "name": "stdout",
     "output_type": "stream",
     "text": [
      "Train loss: tensor(0.0510, grad_fn=<MseLossBackward>) score: 0.9639484420763383\n",
      "Test loss: tensor(0.0658) score: 0.9491692335348814\n"
     ]
    }
   ],
   "source": [
    "optimizer = optim.Adam(net.parameters(), lr=learning_rate)\n",
    "loss_function = nn.MSELoss()\n",
    "def train(net = net,\n",
    "          epochs=10,\n",
    "          BATCH_SIZE = 50):\n",
    "\n",
    "    for e in trange(epochs):\n",
    "        for i in tqdm(range(0, len(train_X), BATCH_SIZE)):\n",
    "            batch_X = train_X[i:i+BATCH_SIZE].view(-1,2,779)\n",
    "            batch_y = train_y[i:i+BATCH_SIZE].view(-1,1,779).squeeze(1)\n",
    "            loss,score = fwd_pass(batch_X, batch_y, train=True)\n",
    "        print('Train','loss:', loss, 'score:' ,score )\n",
    "        loss_test, r2score_test = test(size = 40)\n",
    "        print('Test','loss:', loss_test, 'score:' ,r2score_test )\n",
    "        \n",
    "train()"
   ]
  },
  {
   "cell_type": "code",
   "execution_count": 170,
   "id": "4e124201",
   "metadata": {},
   "outputs": [
    {
     "data": {
      "image/png": "[encoded data removed]",
      "text/plain": [
       "<Figure size 432x288 with 1 Axes>"
      ]
     },
     "metadata": {
      "needs_background": "light"
     },
     "output_type": "display_data"
    }
   ],
   "source": [
    "\n",
    "net_out1 = net(test_X[6].view(-1, 2, 779))\n",
    "\n",
    "predict = net_out1[0].cpu().detach()\n",
    "ground_truth = test_y[6]\n",
    "noise = test_X[6][0]\n",
    "            \n",
    "#plt.plot(predict)\n",
    "plt.plot(ground_truth) \n",
    "plt.plot(noise) \n",
    "plt.show()"
   ]
  },
  {
   "cell_type": "code",
   "execution_count": 221,
   "id": "c62703c7",
   "metadata": {},
   "outputs": [
    {
     "data": {
      "image/png": "[encoded data removed]",
      "text/plain": [
       "<Figure size 432x288 with 1 Axes>"
      ]
     },
     "metadata": {
      "needs_background": "light"
     },
     "output_type": "display_data"
    }
   ],
   "source": [
    "plt.plot(predict)\n",
    "plt.plot(ground_truth) \n",
    "#plt.plot(noise) \n",
    "plt.show()"
   ]
  },
  {
   "cell_type": "code",
   "execution_count": 146,
   "id": "7d597598",
   "metadata": {},
   "outputs": [
    {
     "data": {
      "text/plain": [
       "torch.Size([779])"
      ]
     },
     "execution_count": 146,
     "metadata": {},
     "output_type": "execute_result"
    }
   ],
   "source": [
    "test_X[6][0].size()"
   ]
  },
  {
   "cell_type": "code",
   "execution_count": 163,
   "id": "77164234",
   "metadata": {},
   "outputs": [
    {
     "name": "stdout",
     "output_type": "stream",
     "text": [
      "0\n"
     ]
    }
   ],
   "source": [
    "zero = 0\n",
    "for i in range(len(predict)):\n",
    "    if predict[i] == 0:\n",
    "        zero+=1\n",
    "\n",
    "print(zero)"
   ]
  },
  {
   "cell_type": "code",
   "execution_count": 776,
   "id": "8039506e",
   "metadata": {},
   "outputs": [],
   "source": [
    "noiselist = []\n",
    "for i in range(779):\n",
    "    if light[0][i]>0.13:\n",
    "        noiselist.append(i)\n",
    "        "
   ]
  },
  {
   "cell_type": "code",
   "execution_count": 775,
   "id": "97ba98a1",
   "metadata": {},
   "outputs": [
    {
     "data": {
      "text/plain": [
       "100"
      ]
     },
     "execution_count": 775,
     "metadata": {},
     "output_type": "execute_result"
    }
   ],
   "source": [
    "len(noiselist)"
   ]
  },
  {
   "cell_type": "code",
   "execution_count": 214,
   "id": "d536e20c",
   "metadata": {},
   "outputs": [],
   "source": [
    "net= CNN()"
   ]
  },
  {
   "cell_type": "code",
   "execution_count": 217,
   "id": "15621a9d",
   "metadata": {},
   "outputs": [],
   "source": [
    "input = test_X[1]"
   ]
  },
  {
   "cell_type": "code",
   "execution_count": 218,
   "id": "79f9f1dd",
   "metadata": {},
   "outputs": [
    {
     "ename": "RuntimeError",
     "evalue": "Expected 3-dimensional input for 3-dimensional weight [128, 64, 5], but got 2-dimensional input of size [2, 779] instead",
     "output_type": "error",
     "traceback": [
      "\u001b[0;31m---------------------------------------------------------------------------\u001b[0m",
      "\u001b[0;31mRuntimeError\u001b[0m                              Traceback (most recent call last)",
      "\u001b[0;32m<ipython-input-218-3dfa2542cfc0>\u001b[0m in \u001b[0;36m<module>\u001b[0;34m\u001b[0m\n\u001b[1;32m      1\u001b[0m \u001b[0mmmm\u001b[0m \u001b[0;34m=\u001b[0m \u001b[0mnn\u001b[0m\u001b[0;34m.\u001b[0m\u001b[0mConv1d\u001b[0m\u001b[0;34m(\u001b[0m\u001b[0;36m64\u001b[0m\u001b[0;34m,\u001b[0m \u001b[0;36m128\u001b[0m\u001b[0;34m,\u001b[0m \u001b[0;36m5\u001b[0m\u001b[0;34m,\u001b[0m\u001b[0mpadding\u001b[0m \u001b[0;34m=\u001b[0m \u001b[0;36m6\u001b[0m\u001b[0;34m)\u001b[0m\u001b[0;34m\u001b[0m\u001b[0;34m\u001b[0m\u001b[0m\n\u001b[0;32m----> 2\u001b[0;31m \u001b[0moutput\u001b[0m \u001b[0;34m=\u001b[0m \u001b[0mmmm\u001b[0m\u001b[0;34m(\u001b[0m\u001b[0minput\u001b[0m\u001b[0;34m)\u001b[0m\u001b[0;34m\u001b[0m\u001b[0;34m\u001b[0m\u001b[0m\n\u001b[0m",
      "\u001b[0;32m/opt/anaconda3/lib/python3.8/site-packages/torch/nn/modules/module.py\u001b[0m in \u001b[0;36m_call_impl\u001b[0;34m(self, *input, **kwargs)\u001b[0m\n\u001b[1;32m   1049\u001b[0m         if not (self._backward_hooks or self._forward_hooks or self._forward_pre_hooks or _global_backward_hooks\n\u001b[1;32m   1050\u001b[0m                 or _global_forward_hooks or _global_forward_pre_hooks):\n\u001b[0;32m-> 1051\u001b[0;31m             \u001b[0;32mreturn\u001b[0m \u001b[0mforward_call\u001b[0m\u001b[0;34m(\u001b[0m\u001b[0;34m*\u001b[0m\u001b[0minput\u001b[0m\u001b[0;34m,\u001b[0m \u001b[0;34m**\u001b[0m\u001b[0mkwargs\u001b[0m\u001b[0;34m)\u001b[0m\u001b[0;34m\u001b[0m\u001b[0;34m\u001b[0m\u001b[0m\n\u001b[0m\u001b[1;32m   1052\u001b[0m         \u001b[0;31m# Do not call functions when jit is used\u001b[0m\u001b[0;34m\u001b[0m\u001b[0;34m\u001b[0m\u001b[0;34m\u001b[0m\u001b[0m\n\u001b[1;32m   1053\u001b[0m         \u001b[0mfull_backward_hooks\u001b[0m\u001b[0;34m,\u001b[0m \u001b[0mnon_full_backward_hooks\u001b[0m \u001b[0;34m=\u001b[0m \u001b[0;34m[\u001b[0m\u001b[0;34m]\u001b[0m\u001b[0;34m,\u001b[0m \u001b[0;34m[\u001b[0m\u001b[0;34m]\u001b[0m\u001b[0;34m\u001b[0m\u001b[0;34m\u001b[0m\u001b[0m\n",
      "\u001b[0;32m/opt/anaconda3/lib/python3.8/site-packages/torch/nn/modules/conv.py\u001b[0m in \u001b[0;36mforward\u001b[0;34m(self, input)\u001b[0m\n\u001b[1;32m    296\u001b[0m \u001b[0;34m\u001b[0m\u001b[0m\n\u001b[1;32m    297\u001b[0m     \u001b[0;32mdef\u001b[0m \u001b[0mforward\u001b[0m\u001b[0;34m(\u001b[0m\u001b[0mself\u001b[0m\u001b[0;34m,\u001b[0m \u001b[0minput\u001b[0m\u001b[0;34m:\u001b[0m \u001b[0mTensor\u001b[0m\u001b[0;34m)\u001b[0m \u001b[0;34m->\u001b[0m \u001b[0mTensor\u001b[0m\u001b[0;34m:\u001b[0m\u001b[0;34m\u001b[0m\u001b[0;34m\u001b[0m\u001b[0m\n\u001b[0;32m--> 298\u001b[0;31m         \u001b[0;32mreturn\u001b[0m \u001b[0mself\u001b[0m\u001b[0;34m.\u001b[0m\u001b[0m_conv_forward\u001b[0m\u001b[0;34m(\u001b[0m\u001b[0minput\u001b[0m\u001b[0;34m,\u001b[0m \u001b[0mself\u001b[0m\u001b[0;34m.\u001b[0m\u001b[0mweight\u001b[0m\u001b[0;34m,\u001b[0m \u001b[0mself\u001b[0m\u001b[0;34m.\u001b[0m\u001b[0mbias\u001b[0m\u001b[0;34m)\u001b[0m\u001b[0;34m\u001b[0m\u001b[0;34m\u001b[0m\u001b[0m\n\u001b[0m\u001b[1;32m    299\u001b[0m \u001b[0;34m\u001b[0m\u001b[0m\n\u001b[1;32m    300\u001b[0m \u001b[0;34m\u001b[0m\u001b[0m\n",
      "\u001b[0;32m/opt/anaconda3/lib/python3.8/site-packages/torch/nn/modules/conv.py\u001b[0m in \u001b[0;36m_conv_forward\u001b[0;34m(self, input, weight, bias)\u001b[0m\n\u001b[1;32m    292\u001b[0m                             \u001b[0mweight\u001b[0m\u001b[0;34m,\u001b[0m \u001b[0mbias\u001b[0m\u001b[0;34m,\u001b[0m \u001b[0mself\u001b[0m\u001b[0;34m.\u001b[0m\u001b[0mstride\u001b[0m\u001b[0;34m,\u001b[0m\u001b[0;34m\u001b[0m\u001b[0;34m\u001b[0m\u001b[0m\n\u001b[1;32m    293\u001b[0m                             _single(0), self.dilation, self.groups)\n\u001b[0;32m--> 294\u001b[0;31m         return F.conv1d(input, weight, bias, self.stride,\n\u001b[0m\u001b[1;32m    295\u001b[0m                         self.padding, self.dilation, self.groups)\n\u001b[1;32m    296\u001b[0m \u001b[0;34m\u001b[0m\u001b[0m\n",
      "\u001b[0;31mRuntimeError\u001b[0m: Expected 3-dimensional input for 3-dimensional weight [128, 64, 5], but got 2-dimensional input of size [2, 779] instead"
     ]
    }
   ],
   "source": [
    "m = nn.Conv1d(2, 1, 5,padding = 6)\n",
    "output = mmm(input)"
   ]
  },
  {
   "cell_type": "code",
   "execution_count": null,
   "id": "0eea805e",
   "metadata": {},
   "outputs": [],
   "source": [
    "output.size()"
   ]
  },
  {
   "cell_type": "code",
   "execution_count": null,
   "id": "7d92c05a",
   "metadata": {},
   "outputs": [],
   "source": []
  }
 ],
 "metadata": {
  "kernelspec": {
   "display_name": "Python 3",
   "language": "python",
   "name": "python3"
  },
  "language_info": {
   "codemirror_mode": {
    "name": "ipython",
    "version": 3
   },
   "file_extension": ".py",
   "mimetype": "text/x-python",
   "name": "python",
   "nbconvert_exporter": "python",
   "pygments_lexer": "ipython3",
   "version": "3.8.8"
  }
 },
 "nbformat": 4,
 "nbformat_minor": 5
}
