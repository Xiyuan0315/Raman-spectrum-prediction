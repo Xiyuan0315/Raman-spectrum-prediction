{
 "cells": [
  {
   "cell_type": "code",
   "execution_count": 2,
   "id": "3f9b1ec6",
   "metadata": {},
   "outputs": [],
   "source": [
    "import nets \n",
    "import scipy.io as scio\n",
    "import numpy as np\n",
    "import os\n",
    "from tqdm.auto import tqdm, trange\n",
    "import torch.optim as optim\n",
    "import torch\n",
    "import torch.nn as nn\n",
    "import torch.nn.functional as F\n"
   ]
  },
  {
   "cell_type": "code",
   "execution_count": 3,
   "id": "ff5ab8bd",
   "metadata": {},
   "outputs": [
    {
     "name": "stderr",
     "output_type": "stream",
     "text": [
      "/opt/anaconda3/lib/python3.8/site-packages/torch/serialization.py:671: SourceChangeWarning: source code of class 'torch.nn.modules.container.Sequential' has changed. you can retrieve the original source code by accessing the object's source attribute or set `torch.nn.Module.dump_patches = True` and use the patch tool to revert the changes.\n",
      "  warnings.warn(msg, SourceChangeWarning)\n",
      "/opt/anaconda3/lib/python3.8/site-packages/torch/serialization.py:671: SourceChangeWarning: source code of class 'torch.nn.modules.conv.Conv1d' has changed. you can retrieve the original source code by accessing the object's source attribute or set `torch.nn.Module.dump_patches = True` and use the patch tool to revert the changes.\n",
      "  warnings.warn(msg, SourceChangeWarning)\n",
      "/opt/anaconda3/lib/python3.8/site-packages/torch/serialization.py:671: SourceChangeWarning: source code of class 'torch.nn.modules.activation.ReLU' has changed. you can retrieve the original source code by accessing the object's source attribute or set `torch.nn.Module.dump_patches = True` and use the patch tool to revert the changes.\n",
      "  warnings.warn(msg, SourceChangeWarning)\n",
      "/opt/anaconda3/lib/python3.8/site-packages/torch/serialization.py:671: SourceChangeWarning: source code of class 'torch.nn.modules.pooling.AdaptiveAvgPool1d' has changed. you can retrieve the original source code by accessing the object's source attribute or set `torch.nn.Module.dump_patches = True` and use the patch tool to revert the changes.\n",
      "  warnings.warn(msg, SourceChangeWarning)\n",
      "/opt/anaconda3/lib/python3.8/site-packages/torch/serialization.py:671: SourceChangeWarning: source code of class 'torch.nn.modules.linear.Linear' has changed. you can retrieve the original source code by accessing the object's source attribute or set `torch.nn.Module.dump_patches = True` and use the patch tool to revert the changes.\n",
      "  warnings.warn(msg, SourceChangeWarning)\n"
     ]
    },
    {
     "data": {
      "text/plain": [
       "CNN_CE(\n",
       "  (feat_extractor): Sequential(\n",
       "    (0): Conv1d(1, 16, kernel_size=(11,), stride=(5,), bias=False)\n",
       "    (1): ReLU()\n",
       "    (2): Conv1d(16, 32, kernel_size=(7,), stride=(3,), bias=False)\n",
       "    (3): ReLU()\n",
       "  )\n",
       "  (feat_mapping): Sequential(\n",
       "    (0): Conv1d(32, 32, kernel_size=(3,), stride=(1,), padding=(1,), bias=False)\n",
       "    (1): ReLU()\n",
       "    (2): Conv1d(32, 32, kernel_size=(3,), stride=(1,), padding=(1,), bias=False)\n",
       "    (3): ReLU()\n",
       "  )\n",
       "  (classifier): Sequential(\n",
       "    (0): AdaptiveAvgPool1d(output_size=1)\n",
       "    (1): Flatten()\n",
       "    (2): Linear(in_features=32, out_features=2, bias=True)\n",
       "  )\n",
       ")"
      ]
     },
     "execution_count": 3,
     "metadata": {},
     "output_type": "execute_result"
    }
   ],
   "source": [
    "model =  torch.load('/Users/sheeta/Dropbox/2021_GAN_ambient light removal/CNN_old code/codes/experiments/Task1_CNN/model_latest.pth', map_location='cpu')\n",
    "model.eval()"
   ]
  },
  {
   "cell_type": "code",
   "execution_count": 4,
   "id": "cfa15f3a",
   "metadata": {},
   "outputs": [],
   "source": [
    "os.chdir('/Users/sheeta/Desktop/learn_torch/Task1')\n",
    "lightdata = scio.loadmat('Room_light.mat')\n",
    "lightdata = torch.Tensor(lightdata['light'])\n",
    "light = torch.transpose(lightdata,0,1)[0]"
   ]
  },
  {
   "cell_type": "code",
   "execution_count": 5,
   "id": "9765ec11",
   "metadata": {},
   "outputs": [],
   "source": [
    "#Get data of light and npc spectrum\n",
    "os.chdir('/Users/sheeta/Desktop/learn_torch')\n",
    "\n",
    "lightdata = scio.loadmat('Room_light.mat')\n",
    "lightdata = torch.Tensor(lightdata['light'])\n",
    "light = torch.transpose(lightdata,0,1)\n",
    "database = scio.loadmat('NPC_database.mat')\n",
    "npcdata = torch.Tensor(database['NPC_spec'])\n",
    "controldata = torch.Tensor(database['control_spec'])\n",
    "\n",
    "npc = torch.transpose(npcdata,0,1)\n",
    "noise_zero_npc = torch.where(light[1]>0.13, torch.zeros_like(npc), npc)\n",
    "control = torch.transpose(controldata,0,1)\n",
    "\n"
   ]
  },
  {
   "cell_type": "code",
   "execution_count": 6,
   "id": "465ef928",
   "metadata": {},
   "outputs": [],
   "source": [
    "#先zero，后修复的光谱\n",
    "output_total = np.load(\"output_total.npy\",allow_pickle = True)\n",
    "output_control = output_total[:1760]\n",
    "output_npc = output_total[1761:]"
   ]
  },
  {
   "cell_type": "code",
   "execution_count": 54,
   "id": "a52cf50c",
   "metadata": {},
   "outputs": [],
   "source": [
    "pred_test = np.load(\"output_test.npy\", allow_pickle = True)\n",
    "ori_test = np.load(\"golden_test.npy\",allow_pickle = True)"
   ]
  },
  {
   "cell_type": "code",
   "execution_count": 50,
   "id": "152077a2",
   "metadata": {},
   "outputs": [
    {
     "data": {
      "text/plain": [
       "1182"
      ]
     },
     "execution_count": 50,
     "metadata": {},
     "output_type": "execute_result"
    }
   ],
   "source": [
    "len(ori_test)"
   ]
  },
  {
   "cell_type": "code",
   "execution_count": 51,
   "id": "c6fe7480",
   "metadata": {},
   "outputs": [],
   "source": [
    "def acc(database):\n",
    "    score = 0\n",
    "    for i in range(len(database)):\n",
    "        pred = model(torch.Tensor(database[i][0]).view(-1,1,779))\n",
    "        pred = np.argmax(pred.detach().numpy())\n",
    "        if pred == database[i][1]:\n",
    "            score+=1\n",
    "    acc = score/len(database) \n",
    "\n",
    "    return acc"
   ]
  },
  {
   "cell_type": "code",
   "execution_count": 72,
   "id": "b826b607",
   "metadata": {},
   "outputs": [],
   "source": [
    "def negacc(database):\n",
    "    score = 0\n",
    "    size = 0\n",
    "    for i in range(len(database)):\n",
    "        \n",
    "        if database[i][1] ==0:\n",
    "            size+=1\n",
    "            pred = model(torch.Tensor(database[i][0]).view(-1,1,779))\n",
    "            pred = np.argmax(pred.detach().numpy())\n",
    "\n",
    "            if pred == database[i][1]:\n",
    "\n",
    "                score+=1\n",
    "    acc = score/size\n",
    "    return acc"
   ]
  },
  {
   "cell_type": "code",
   "execution_count": 73,
   "id": "ccd58b95",
   "metadata": {},
   "outputs": [
    {
     "data": {
      "text/plain": [
       "0.8104906937394247"
      ]
     },
     "execution_count": 73,
     "metadata": {},
     "output_type": "execute_result"
    }
   ],
   "source": [
    "#input:noise free spectrum\n",
    "acc(ori_test)"
   ]
  },
  {
   "cell_type": "code",
   "execution_count": 74,
   "id": "01ba741c",
   "metadata": {},
   "outputs": [
    {
     "data": {
      "text/plain": [
       "0.5125348189415042"
      ]
     },
     "execution_count": 74,
     "metadata": {},
     "output_type": "execute_result"
    }
   ],
   "source": [
    "negacc(ori_test)"
   ]
  },
  {
   "cell_type": "code",
   "execution_count": 75,
   "id": "8647d8c1",
   "metadata": {},
   "outputs": [
    {
     "data": {
      "text/plain": [
       "0.49303621169916434"
      ]
     },
     "execution_count": 75,
     "metadata": {},
     "output_type": "execute_result"
    }
   ],
   "source": [
    "negacc(pred_test)"
   ]
  },
  {
   "cell_type": "code",
   "execution_count": 56,
   "id": "093792f6",
   "metadata": {},
   "outputs": [
    {
     "data": {
      "text/plain": [
       "0.8062605752961083"
      ]
     },
     "execution_count": 56,
     "metadata": {},
     "output_type": "execute_result"
    }
   ],
   "source": [
    "#inout: denoised spectrum\n",
    "acc(pred_test)"
   ]
  },
  {
   "cell_type": "code",
   "execution_count": 8,
   "id": "4dae96b5",
   "metadata": {},
   "outputs": [
    {
     "data": {
      "text/plain": [
       "0.18808777429467086"
      ]
     },
     "execution_count": 8,
     "metadata": {},
     "output_type": "execute_result"
    }
   ],
   "source": [
    "#get true positive of model use 'full of 0 data', acc = 0.18808777429467086\n",
    "acc(noise_zero_npc)"
   ]
  },
  {
   "cell_type": "code",
   "execution_count": null,
   "id": "a5dbaad0",
   "metadata": {},
   "outputs": [],
   "source": [
    "#load raman\n",
    "spec_mat= scio.loadmat('scale_spec')\n",
    "spec = torch.Tensor(spec_mat['ans'])\n",
    "\n",
    "#load label\n",
    "label_mat= scio.loadmat('label')\n",
    "label = torch.Tensor(label_mat['label'])\n",
    "\n",
    "\n",
    "mouth = [spec,label]"
   ]
  }
 ],
 "metadata": {
  "kernelspec": {
   "display_name": "Python 3",
   "language": "python",
   "name": "python3"
  },
  "language_info": {
   "codemirror_mode": {
    "name": "ipython",
    "version": 3
   },
   "file_extension": ".py",
   "mimetype": "text/x-python",
   "name": "python",
   "nbconvert_exporter": "python",
   "pygments_lexer": "ipython3",
   "version": "3.8.8"
  }
 },
 "nbformat": 4,
 "nbformat_minor": 5
}
